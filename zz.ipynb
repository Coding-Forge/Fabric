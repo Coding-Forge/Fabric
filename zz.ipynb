{
 "cells": [
  {
   "cell_type": "code",
   "execution_count": null,
   "metadata": {},
   "outputs": [],
   "source": [
    " |    |-- DataPipeline: array (nullable = true)\n",
    " |    |    |-- element: struct (containsNull = true)\n",
    " |    |    |    |-- createdBy: string (nullable = true)\n",
    " |    |    |    |-- createdById: string (nullable = true)\n",
    " |    |    |    |-- createdDate: string (nullable = true)\n",
    " |    |    |    |-- datasourceUsages: array (nullable = true)\n",
    " |    |    |    |    |-- element: struct (containsNull = true)\n",
    " |    |    |    |    |    |-- datasourceInstanceId: string (nullable = true)\n",
    " |    |    |    |-- description: string (nullable = true)\n",
    " |    |    |    |-- id: string (nullable = true)\n",
    " |    |    |    |-- lastUpdatedDate: string (nullable = true)\n",
    " |    |    |    |-- modifiedBy: string (nullable = true)\n",
    " |    |    |    |-- modifiedById: string (nullable = true)\n",
    " |    |    |    |-- name: string (nullable = true)\n",
    " |    |    |    |-- relations: array (nullable = true)\n",
    " |    |    |    |    |-- element: struct (containsNull = true)\n",
    " |    |    |    |    |    |-- dependentOnArtifactId: string (nullable = true)\n",
    " |    |    |    |    |    |-- relationType: string (nullable = true)\n",
    " |    |    |    |    |    |-- settingsList: string (nullable = true)\n",
    " |    |    |    |    |    |-- usage: string (nullable = true)\n",
    " |    |    |    |    |    |-- workspaceId: string (nullable = true)\n",
    " |    |    |    |-- state: string (nullable = true)"
   ]
  }
 ],
 "metadata": {
  "language_info": {
   "name": "python"
  }
 },
 "nbformat": 4,
 "nbformat_minor": 2
}
