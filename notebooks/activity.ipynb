{
 "cells": [
  {
   "cell_type": "markdown",
   "metadata": {},
   "source": [
    "# Digest Activity Events"
   ]
  },
  {
   "cell_type": "code",
   "execution_count": 4,
   "metadata": {},
   "outputs": [],
   "source": [
    "def extract_value(string):\n",
    "    start = string.find(':') + 1\n",
    "    end = string.find('(')\n",
    "    return string[start:end].strip()\n",
    "\n",
    "def extract_name(string):\n",
    "    start = string.find('--') + 1\n",
    "    end = string.find(':')\n",
    "    return string[start:end].strip()"
   ]
  },
  {
   "cell_type": "code",
   "execution_count": 5,
   "metadata": {},
   "outputs": [],
   "source": [
    "def get_meta(string):\n",
    "    start = string.find(':') + 1\n",
    "    end = string.find('(')\n",
    "    value = string[start:end].strip()\n",
    "\n",
    "    start_v = string.find('--') + 1\n",
    "    end_v = string.find(':')\n",
    "    key = string[start_v:end_v].split(\"-\")[-1].strip()    \n",
    "\n",
    "    meta = dict()\n",
    "    meta[key]=value\n",
    "\n",
    "    return meta"
   ]
  },
  {
   "cell_type": "code",
   "execution_count": 6,
   "metadata": {},
   "outputs": [],
   "source": [
    "def build_df(df):\n",
    "\n",
    "    lst = df._jdf.schema().treeString()\n",
    "    lines = lst.split(\"\\n\")\n",
    "\n",
    "    artifacts = list()\n",
    "    arrays = list()\n",
    "    root_columns = list()\n",
    "    fields = list()\n",
    "    meta = dict()\n",
    "\n",
    "    for line in lines:\n",
    "        x = line.split(sep=\"|\")\n",
    "        typ = extract_value(line)\n",
    "        name = extract_name(line).split(\"-\")[-1].strip()\n",
    "\n",
    "        if len(x)==2:\n",
    "            if typ not in ['struct','array']:\n",
    "                fields.append(name)\n",
    "                q = get_meta(line)\n",
    "                meta[name]=q[name]\n",
    "        if len(x)==3:\n",
    "            if typ not in ['struct','array']:\n",
    "                fields.append(name)\n",
    "                q = get_meta(line)\n",
    "                meta[name]=q[name]\n",
    "            else:\n",
    "                if typ == 'array':\n",
    "                    arrays.append(name)\n",
    "\n",
    "\n",
    "    return (arrays,fields,meta)\n",
    "\n"
   ]
  },
  {
   "cell_type": "code",
   "execution_count": 21,
   "metadata": {},
   "outputs": [
    {
     "name": "stdout",
     "output_type": "stream",
     "text": [
      "['ActionSource', 'ActionSourceDetail', 'Activity', 'ActivityId', 'AppId', 'AppName', 'AppReportId', 'ArtifactId', 'ArtifactKind', 'ArtifactName', 'ArtifactType', 'CapacityId', 'CapacityName', 'CapacityState', 'CapacityUsers', 'ClientIP', 'ConsumptionMethod', 'CopiedReportId', 'CopiedReportName', 'CreationTime', 'CredentialSetupMode', 'CustomVisualAccessTokenResourceId', 'CustomVisualAccessTokenSiteUri', 'DashboardId', 'DashboardName', 'DataConnectivityMode', 'DataflowAllowNativeQueries', 'DataflowId', 'DataflowName', 'DataflowRefreshScheduleType', 'DataflowType', 'DatasetCertificationStage', 'DatasetId', 'DatasetName', 'DatasourceId', 'DeploymentPipelineId', 'DeploymentPipelineObjectId', 'DeploymentPipelineOperationId', 'DeploymentPipelineStageOrder', 'DistributionMethod', 'EmbedTokenId', 'EndPoint', 'Experience', 'ExportEventEndDateTimeParameter', 'ExportEventStartDateTimeParameter', 'FolderDisplayName', 'FolderObjectId', 'GatewayClusterId', 'GatewayId', 'GatewayMemberId', 'GatewayName', 'GatewayState', 'GatewayStatus', 'GatewayType', 'HasFullReportAttachment', 'Id', 'ImportDisplayName', 'ImportId', 'ImportSource', 'ImportType', 'IsSuccess', 'IsTemplateAppFromMarketplace', 'IsTenantAdminApi', 'IsUpdateAppActivity', 'ItemId', 'ItemName', 'LabelEventType', 'LastRefreshTime', 'MentionedUsersInformation', 'ModelId', 'ObjectDisplayName', 'ObjectId', 'ObjectType', 'OldSensitivityLabelId', 'Operation', 'OrganizationId', 'OriginalOwner', 'PackageId', 'RecordType', 'RefreshEnforcementPolicy', 'RefreshType', 'ReportId', 'ReportMobileLayoutAction', 'ReportName', 'ReportType', 'RequestId', 'ResultStatus', 'SensitivityLabelId', 'ShareLinkId', 'ShareWithCurrentFilter', 'SharingAction', 'SharingScope', 'SingleSignOnType', 'SubfolderId', 'SubfolderName', 'SubfolderObjectId', 'SwitchState', 'TableName', 'TakingOverOwner', 'TargetWorkspaceId', 'TemplateAppFolderObjectId', 'TemplateAppIsInstalledWithAutomation', 'TemplateAppObjectId', 'TemplateAppOwnerTenantObjectId', 'TemplateAppVersion', 'TemplatePackageName', 'TileText', 'UserAgent', 'UserId', 'UserKey', 'UserType', 'WorkSpaceName', 'Workload', 'WorkspaceId', 'WorkspacesSemicolonDelimitedList']\n",
      "['ArtifactOwnerInformation', 'Datasets', 'DatasourceInformations', 'DatasourceObjectIds', 'Datasources', 'ExternalSubscribeeInformation', 'FolderAccessRequests', 'GatewayClusterDatasources', 'users', 'GatewayClustersObjectIds', 'ModelsSnapshots', 'Monikers', 'PaginatedReportDataSources', 'Days', 'Time', 'SharingInformation', 'SubscribeeInformation', 'Time', 'WeekDays', 'UpdateFeaturedTables', 'UsersAdded', 'WorkspaceAccessList', 'UserAccessList']\n",
      "{'AggregatedWorkspaceInformation': 2, 'ArtifactAccessRequestInfo': 2, 'element': 5, 'AuditedArtifactInformation': 2, 'DataflowAccessTokenRequestParameters': 2, 'ExportedArtifactInfo': 2, 'credentialDetails': 4, 'InstallTeamsAnalyticsInformation': 2, 'OrgAppPermission': 2, 'PinReportToTabInformation': 2, 'Schedules': 2, 'SensitivityLabelEventData': 2, 'SubscriptionDetails': 2, 'SubscriptionSchedule': 2, 'UserInformation': 2}\n"
     ]
    }
   ],
   "source": [
    "base_columns = list()\n",
    "\n",
    "\n",
    "artifacts = list()\n",
    "arrays = list()\n",
    "structs = dict()\n",
    "root_columns = list()\n",
    "fields = list()\n",
    "meta = dict()\n",
    "\n",
    "\n",
    "with open(\"../schema_examples/Activity Events.txt\",\"r\")as file:\n",
    "    for line in file:\n",
    "        x = line.split(sep=\"|\")\n",
    "        typ = extract_value(line)\n",
    "        name = extract_name(line).split(\"-\")[-1].strip()\n",
    "\n",
    "        # print(name)\n",
    "        if len(x)==2:\n",
    "            if typ not in ['struct','array']:\n",
    "                fields.append(name)\n",
    "                q = get_meta(line)\n",
    "                meta[name]=q[name]\n",
    "        if len(x)>=2:\n",
    "            # if typ not in ['struct','array']:\n",
    "            #     fields.append(name)\n",
    "            #     q = get_meta(line)\n",
    "            #     meta[name]=q[name]\n",
    "            # else:\n",
    "            if typ == 'array':\n",
    "                arrays.append(name)\n",
    "            if typ == 'struct':\n",
    "                structs[name]=len(x)\n",
    "\n",
    "print(fields)\n",
    "print(arrays)\n",
    "print(structs)"
   ]
  },
  {
   "cell_type": "code",
   "execution_count": 23,
   "metadata": {},
   "outputs": [
    {
     "name": "stdout",
     "output_type": "stream",
     "text": [
      "AggregatedWorkspaceInformation\n",
      "ArtifactAccessRequestInfo\n",
      "AuditedArtifactInformation\n",
      "DataflowAccessTokenRequestParameters\n",
      "ExportedArtifactInfo\n",
      "InstallTeamsAnalyticsInformation\n",
      "OrgAppPermission\n",
      "PinReportToTabInformation\n",
      "Schedules\n",
      "SensitivityLabelEventData\n",
      "SubscriptionDetails\n",
      "SubscriptionSchedule\n",
      "UserInformation\n"
     ]
    }
   ],
   "source": [
    "for key in structs:\n",
    "    if structs[key] == 2:\n",
    "        print(key)"
   ]
  },
  {
   "cell_type": "code",
   "execution_count": null,
   "metadata": {},
   "outputs": [],
   "source": []
  }
 ],
 "metadata": {
  "kernelspec": {
   "display_name": "fabric",
   "language": "python",
   "name": "python3"
  },
  "language_info": {
   "codemirror_mode": {
    "name": "ipython",
    "version": 3
   },
   "file_extension": ".py",
   "mimetype": "text/x-python",
   "name": "python",
   "nbconvert_exporter": "python",
   "pygments_lexer": "ipython3",
   "version": "3.10.13"
  }
 },
 "nbformat": 4,
 "nbformat_minor": 2
}
