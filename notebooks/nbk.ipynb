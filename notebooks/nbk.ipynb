{
 "cells": [
  {
   "cell_type": "code",
   "execution_count": 1,
   "metadata": {},
   "outputs": [
    {
     "ename": "ModuleNotFoundError",
     "evalue": "No module named 'env'",
     "output_type": "error",
     "traceback": [
      "\u001b[31m---------------------------------------------------------------------------\u001b[39m",
      "\u001b[31mModuleNotFoundError\u001b[39m                       Traceback (most recent call last)",
      "\u001b[36mCell\u001b[39m\u001b[36m \u001b[39m\u001b[32mIn[1]\u001b[39m\u001b[32m, line 11\u001b[39m\n\u001b[32m      9\u001b[39m \u001b[38;5;28;01mimport\u001b[39;00m\u001b[38;5;250m \u001b[39m\u001b[34;01msys\u001b[39;00m\n\u001b[32m     10\u001b[39m sys.path.append(\u001b[33m\"\u001b[39m\u001b[33m../../\u001b[39m\u001b[33m\"\u001b[39m)\n\u001b[32m---> \u001b[39m\u001b[32m11\u001b[39m \u001b[38;5;28;01mfrom\u001b[39;00m\u001b[38;5;250m \u001b[39m\u001b[34;01menv\u001b[39;00m\u001b[34;01m.\u001b[39;00m\u001b[34;01mutility\u001b[39;00m\u001b[34;01m.\u001b[39;00m\u001b[34;01mhelps\u001b[39;00m\u001b[38;5;250m \u001b[39m\u001b[38;5;28;01mimport\u001b[39;00m Bob\n\u001b[32m     12\u001b[39m \u001b[38;5;28;01mfrom\u001b[39;00m\u001b[38;5;250m \u001b[39m\u001b[34;01menv\u001b[39;00m\u001b[34;01m.\u001b[39;00m\u001b[34;01mutility\u001b[39;00m\u001b[34;01m.\u001b[39;00m\u001b[34;01mfab2\u001b[39;00m\u001b[38;5;250m \u001b[39m\u001b[38;5;28;01mimport\u001b[39;00m File_Table_Management\n",
      "\u001b[31mModuleNotFoundError\u001b[39m: No module named 'env'"
     ]
    }
   ],
   "source": [
    "import os\n",
    "import requests\n",
    "import pandas as pd\n",
    "import json\n",
    "import asyncio\n",
    "\n",
    "from datetime import datetime\n",
    "from datetime import timedelta\n",
    "import sys\n",
    "sys.path.append(\"../../\")\n",
    "from env.utility.helps import Bob\n",
    "from env.utility.fab2 import File_Table_Management"
   ]
  },
  {
   "cell_type": "code",
   "execution_count": 22,
   "metadata": {},
   "outputs": [
    {
     "data": {
      "text/plain": [
       "'/home/brandon/projects/fabric/monitor/FabricMonitor/app/notebooks'"
      ]
     },
     "execution_count": 22,
     "metadata": {},
     "output_type": "execute_result"
    }
   ],
   "source": [
    "os.getcwd()"
   ]
  },
  {
   "cell_type": "code",
   "execution_count": 12,
   "metadata": {},
   "outputs": [],
   "source": [
    "bob = Bob()\n",
    "# get POWER BI context and settings -- this call must be synchronous\n",
    "settings = bob.get_settings()\n",
    "headers = bob.get_context()\n",
    "\n",
    "FF = File_Table_Management(\n",
    "    tenant_id=settings['ServicePrincipal']['TenantId'],\n",
    "    client_id=settings['ServicePrincipal']['AppId'],\n",
    "    client_secret=settings['ServicePrincipal']['AppSecret'],\n",
    "    workspace_name=settings['WorkspaceName']\n",
    ")\n",
    "\n",
    "lakehouse_catalog = f\"{settings['LakehouseName']}.Lakehouse/Files/catalog/\"\n",
    "\n",
    "##################### INTIALIZE THE CONFIGURATION #####################\n",
    "today = datetime.now()\n"
   ]
  },
  {
   "cell_type": "code",
   "execution_count": 13,
   "metadata": {},
   "outputs": [
    {
     "name": "stdout",
     "output_type": "stream",
     "text": [
      "Checking if FabricLake.Lakehouse/Files/catalog/snapshots/2024/02/15 exists\n"
     ]
    }
   ],
   "source": [
    "\n",
    "snapshots =f\"snapshots/{today.strftime('%Y')}/{today.strftime('%m')}/{today.strftime('%d')}\"\n",
    "## check if file already exists\n",
    "#lakehouse_dir = f\"{lakehouse_catalog}{snapshots}\"\n",
    "lakehouse_dir = f\"{lakehouse_catalog}snapshots/2024/02/15\"\n",
    "\n",
    "print(f\"Checking if {lakehouse_dir} exists\")\n",
    "\n",
    "fsc = FF.get_file_system_client(\n",
    "    tenant_id=settings['ServicePrincipal']['TenantId'],\n",
    "    client_id=settings['ServicePrincipal']['AppId'],\n",
    "    client_secret=settings['ServicePrincipal']['AppSecret'],\n",
    "    workspace_name=settings['WorkspaceName']   \n",
    ")\n"
   ]
  },
  {
   "cell_type": "code",
   "execution_count": 14,
   "metadata": {},
   "outputs": [
    {
     "name": "stdout",
     "output_type": "stream",
     "text": [
      "Path: FabricLake.Lakehouse/Files/catalog/snapshots/2024/02/15/apps.json\n"
     ]
    }
   ],
   "source": [
    "\n",
    "try:\n",
    "    paths = fsc.get_paths(lakehouse_dir)\n",
    "    for path in paths:\n",
    "        print(f\"Path: {path.name}\")\n",
    "        if \"app.json\" in path.name:\n",
    "            print(f\"File {path.name} already exists\")\n",
    "            exit(0)\n",
    "\n",
    "except Exception as e:\n",
    "    print(f\"Error: {e} - continue with executing code\")    \n"
   ]
  },
  {
   "cell_type": "code",
   "execution_count": null,
   "metadata": {},
   "outputs": [],
   "source": [
    "\n",
    "dc = await FF.create_directory(file_system_client=FF.fsc, directory_name=lakehouse_dir)\n"
   ]
  }
 ],
 "metadata": {
  "kernelspec": {
   "display_name": "nbks",
   "language": "python",
   "name": "python3"
  },
  "language_info": {
   "codemirror_mode": {
    "name": "ipython",
    "version": 3
   },
   "file_extension": ".py",
   "mimetype": "text/x-python",
   "name": "python",
   "nbconvert_exporter": "python",
   "pygments_lexer": "ipython3",
   "version": "3.12.9"
  }
 },
 "nbformat": 4,
 "nbformat_minor": 2
}
