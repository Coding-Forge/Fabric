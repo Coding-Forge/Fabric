{
 "cells": [
  {
   "cell_type": "code",
   "execution_count": 6,
   "metadata": {},
   "outputs": [],
   "source": [
    "import os\n",
    "from env.audit import Audits\n",
    "\n",
    "appsecret = os.getenv(\"admin_appsecret\")\n",
    "appid = os.getenv(\"admin_appid\")\n",
    "tenantid = os.getenv(\"admin_tenantid\")\n",
    "\n",
    "audit = Audits()\n",
    "audit.set_ServicePrincipal(\n",
    "    tenant_id=tenantid,\n",
    "    client_id=appid,\n",
    "    client_secret= appsecret\n",
    ")\n"
   ]
  },
  {
   "cell_type": "code",
   "execution_count": 5,
   "metadata": {},
   "outputs": [
    {
     "name": "stderr",
     "output_type": "stream",
     "text": [
      "Error reading file\n"
     ]
    },
    {
     "name": "stdout",
     "output_type": "stream",
     "text": [
      "File not found: Request Failed with Artifact 'LakehouseName.Lakehouse' is not found in workspace 'WorkspaceName'.\n",
      "ErrorCode:ArtifactNotFound\n",
      "Content: <?xml version=\"1.0\" encoding=\"utf-8\"?>\n",
      "<Error>\n",
      "  <Code>ArtifactNotFound</Code>\n",
      "  <Message>Request Failed with Artifact 'LakehouseName.Lakehouse' is not found in workspace 'WorkspaceName'.</Message>\n",
      "</Error>\n",
      "Error: 'NoneType' object has no attribute 'decode'\n",
      "what is the current state None\n",
      "Creating state.yaml file\n"
     ]
    },
    {
     "name": "stderr",
     "output_type": "stream",
     "text": [
      "Error saving file\n"
     ]
    },
    {
     "name": "stdout",
     "output_type": "stream",
     "text": [
      "Error: Request Failed with Artifact 'LakehouseName.Lakehouse' is not found in workspace 'WorkspaceName'.\n",
      "ErrorCode:ArtifactNotFound\n",
      "Task Activity is now running\n",
      "What is current state {'activity': {'lastRun': '2024-10-14T11:21:19.300110Z'}, 'apps': {'lastRun': '2024-10-14T11:21:19.300110Z'}, 'catalog': {'lastFullScan': '2024-10-14T11:21:19.300110Z', 'lastRun': '2024-10-14T11:21:19.300110Z'}, 'gateway': {'lastRun': '2024-10-14T11:21:19.300110Z'}, 'graph': {'lastRun': '2024-10-14T11:21:19.300110Z'}, 'refreshables': {'lastRun': '2024-10-14T11:21:19.300110Z'}, 'refreshhistory': {'lastRun': '2024-10-14T11:21:19.300110Z'}, 'tenant': {'lastRun': '2024-10-14T11:21:19.300110Z'}, 'capacity': {'lastRun': '2024-10-14T11:21:19.300110Z'}, 'roles': {'lastRun': '2024-10-14T11:21:19.300110Z'}, 'domains': {'lastRun': '2024-05-31T04:00:31.000683Z'}, 'fabricitems': {'lastRun': '2024-05-31T04:00:31.000683Z'}, 'workspaces': {'lastRun': '2024-05-31T04:00:31.000683Z'}}\n",
      "Task Catalog Snapshots (Published Apps) is now running\n",
      "Task Capacities is now running\n",
      "Task Catalog Scans (Catalog meta data) is now running\n",
      "Task Domains is now running\n",
      "Task Fabric Items is now running\n",
      "Task Gateways is now running\n"
     ]
    },
    {
     "name": "stderr",
     "output_type": "stream",
     "text": [
      "Error saving file\n"
     ]
    },
    {
     "name": "stdout",
     "output_type": "stream",
     "text": [
      "Error: Request Failed with Artifact 'LakehouseName.Lakehouse' is not found in workspace 'WorkspaceName'.\n",
      "ErrorCode:ArtifactNotFound\n"
     ]
    },
    {
     "name": "stderr",
     "output_type": "stream",
     "text": [
      "Error saving file\n",
      "Error saving file\n"
     ]
    },
    {
     "name": "stdout",
     "output_type": "stream",
     "text": [
      "Error: Request Failed with Artifact 'LakehouseName.Lakehouse' is not found in workspace 'WorkspaceName'.\n",
      "ErrorCode:ArtifactNotFound\n",
      "Error: Request Failed with Artifact 'LakehouseName.Lakehouse' is not found in workspace 'WorkspaceName'.\n",
      "ErrorCode:ArtifactNotFound\n"
     ]
    },
    {
     "name": "stderr",
     "output_type": "stream",
     "text": [
      "Error saving file\n",
      "Error saving file\n"
     ]
    },
    {
     "name": "stdout",
     "output_type": "stream",
     "text": [
      "Error: Request Failed with Artifact 'LakehouseName.Lakehouse' is not found in workspace 'WorkspaceName'.\n",
      "ErrorCode:ArtifactNotFound\n",
      "Error: Request Failed with Artifact 'LakehouseName.Lakehouse' is not found in workspace 'WorkspaceName'.\n",
      "ErrorCode:ArtifactNotFound\n",
      "Task Gateway elapsed time: 3.0\n",
      "Task Graph is now running\n"
     ]
    },
    {
     "name": "stderr",
     "output_type": "stream",
     "text": [
      "Error saving file\n"
     ]
    },
    {
     "name": "stdout",
     "output_type": "stream",
     "text": [
      "Error: Request Failed with Artifact 'LakehouseName.Lakehouse' is not found in workspace 'WorkspaceName'.\n",
      "ErrorCode:ArtifactNotFound\n"
     ]
    },
    {
     "name": "stderr",
     "output_type": "stream",
     "text": [
      "Error saving file\n"
     ]
    },
    {
     "name": "stdout",
     "output_type": "stream",
     "text": [
      "Error: Request Failed with Artifact 'LakehouseName.Lakehouse' is not found in workspace 'WorkspaceName'.\n",
      "ErrorCode:ArtifactNotFound\n",
      "Task Gateway elapsed time: 1.2\n",
      "Task Refreshables is now running\n",
      "Task Refresh history is now running\n",
      "Task Tenant Settings is now running\n"
     ]
    },
    {
     "name": "stderr",
     "output_type": "stream",
     "text": [
      "Error saving file\n"
     ]
    },
    {
     "name": "stdout",
     "output_type": "stream",
     "text": [
      "Error: Request Failed with Artifact 'LakehouseName.Lakehouse' is not found in workspace 'WorkspaceName'.\n",
      "ErrorCode:ArtifactNotFound\n",
      "Task Refreshables elapsed time: 1.0\n",
      "Task Workspaces in tenant is now running\n"
     ]
    },
    {
     "name": "stderr",
     "output_type": "stream",
     "text": [
      "Error saving file\n"
     ]
    },
    {
     "name": "stdout",
     "output_type": "stream",
     "text": [
      "Processing batch number 1 of 0 batches\n",
      "Processing item number 1\n",
      "Error: Request Failed with Artifact 'LakehouseName.Lakehouse' is not found in workspace 'WorkspaceName'.\n",
      "ErrorCode:ArtifactNotFound\n",
      "Task Refreshables elapsed time: 0.9\n"
     ]
    },
    {
     "name": "stderr",
     "output_type": "stream",
     "text": [
      "Error saving file\n",
      "Error saving file\n"
     ]
    },
    {
     "name": "stdout",
     "output_type": "stream",
     "text": [
      "Error: Request Failed with Artifact 'LakehouseName.Lakehouse' is not found in workspace 'WorkspaceName'.\n",
      "ErrorCode:ArtifactNotFound\n",
      "Error: Request Failed with Artifact 'LakehouseName.Lakehouse' is not found in workspace 'WorkspaceName'.\n",
      "ErrorCode:ArtifactNotFound\n",
      "Task Apps elapsed time: 8.8\n"
     ]
    },
    {
     "name": "stderr",
     "output_type": "stream",
     "text": [
      "Error saving file\n",
      "Error saving file\n"
     ]
    },
    {
     "name": "stdout",
     "output_type": "stream",
     "text": [
      "Error: Request Failed with Artifact 'LakehouseName.Lakehouse' is not found in workspace 'WorkspaceName'.\n",
      "ErrorCode:ArtifactNotFound\n",
      "Task Gateway elapsed time: 3.1\n",
      "Error: Request Failed with Artifact 'LakehouseName.Lakehouse' is not found in workspace 'WorkspaceName'.\n",
      "ErrorCode:ArtifactNotFound\n"
     ]
    },
    {
     "name": "stderr",
     "output_type": "stream",
     "text": [
      "Error saving file\n",
      "Error saving file\n"
     ]
    },
    {
     "name": "stdout",
     "output_type": "stream",
     "text": [
      "Error: Request Failed with Artifact 'LakehouseName.Lakehouse' is not found in workspace 'WorkspaceName'.\n",
      "ErrorCode:ArtifactNotFound\n",
      "Task Capacity elapsed time: 9.3\n",
      "Error: Request Failed with Artifact 'LakehouseName.Lakehouse' is not found in workspace 'WorkspaceName'.\n",
      "ErrorCode:ArtifactNotFound\n"
     ]
    },
    {
     "name": "stderr",
     "output_type": "stream",
     "text": [
      "Error saving file\n",
      "Error saving file\n"
     ]
    },
    {
     "name": "stdout",
     "output_type": "stream",
     "text": [
      "Error: Request Failed with Artifact 'LakehouseName.Lakehouse' is not found in workspace 'WorkspaceName'.\n",
      "ErrorCode:ArtifactNotFound\n",
      "Error: Request Failed with Artifact 'LakehouseName.Lakehouse' is not found in workspace 'WorkspaceName'.\n",
      "ErrorCode:ArtifactNotFound\n"
     ]
    },
    {
     "name": "stderr",
     "output_type": "stream",
     "text": [
      "Error saving file\n",
      "Error saving file\n"
     ]
    },
    {
     "name": "stdout",
     "output_type": "stream",
     "text": [
      "Error: Request Failed with Artifact 'LakehouseName.Lakehouse' is not found in workspace 'WorkspaceName'.\n",
      "ErrorCode:ArtifactNotFound\n",
      "Saving scan results to 20241021_00001.scanResults.json\n",
      "Error: Request Failed with Artifact 'LakehouseName.Lakehouse' is not found in workspace 'WorkspaceName'.\n",
      "ErrorCode:ArtifactNotFound\n",
      "Saved\n",
      "I sleeping\n",
      "Task Catalog elapsed time: 39.8\n"
     ]
    },
    {
     "name": "stderr",
     "output_type": "stream",
     "text": [
      "Error saving file\n",
      "Error saving file\n"
     ]
    },
    {
     "name": "stdout",
     "output_type": "stream",
     "text": [
      "Error: Request Failed with Artifact 'LakehouseName.Lakehouse' is not found in workspace 'WorkspaceName'.\n",
      "ErrorCode:ArtifactNotFound\n",
      "Error: Request Failed with Artifact 'LakehouseName.Lakehouse' is not found in workspace 'WorkspaceName'.\n",
      "ErrorCode:ArtifactNotFound\n"
     ]
    },
    {
     "name": "stderr",
     "output_type": "stream",
     "text": [
      "Error saving file\n",
      "Error saving file\n"
     ]
    },
    {
     "name": "stdout",
     "output_type": "stream",
     "text": [
      "Error: Request Failed with Artifact 'LakehouseName.Lakehouse' is not found in workspace 'WorkspaceName'.\n",
      "ErrorCode:ArtifactNotFound\n",
      "Error: Request Failed with Artifact 'LakehouseName.Lakehouse' is not found in workspace 'WorkspaceName'.\n",
      "ErrorCode:ArtifactNotFound\n",
      "Task Domains elapsed time: 40.4\n"
     ]
    },
    {
     "name": "stderr",
     "output_type": "stream",
     "text": [
      "Error saving file\n"
     ]
    },
    {
     "name": "stdout",
     "output_type": "stream",
     "text": [
      "Error: Request Failed with Artifact 'LakehouseName.Lakehouse' is not found in workspace 'WorkspaceName'.\n",
      "ErrorCode:ArtifactNotFound\n"
     ]
    },
    {
     "name": "stderr",
     "output_type": "stream",
     "text": [
      "Error saving file\n"
     ]
    },
    {
     "name": "stdout",
     "output_type": "stream",
     "text": [
      "Error: Request Failed with Artifact 'LakehouseName.Lakehouse' is not found in workspace 'WorkspaceName'.\n",
      "ErrorCode:ArtifactNotFound\n"
     ]
    },
    {
     "name": "stderr",
     "output_type": "stream",
     "text": [
      "Error saving file\n"
     ]
    },
    {
     "name": "stdout",
     "output_type": "stream",
     "text": [
      "Error: Request Failed with Artifact 'LakehouseName.Lakehouse' is not found in workspace 'WorkspaceName'.\n",
      "ErrorCode:ArtifactNotFound\n",
      "Task FabricItems elapsed time: 40.9\n"
     ]
    },
    {
     "name": "stderr",
     "output_type": "stream",
     "text": [
      "Error saving file\n"
     ]
    },
    {
     "name": "stdout",
     "output_type": "stream",
     "text": [
      "Error: Request Failed with Artifact 'LakehouseName.Lakehouse' is not found in workspace 'WorkspaceName'.\n",
      "ErrorCode:ArtifactNotFound\n"
     ]
    },
    {
     "name": "stderr",
     "output_type": "stream",
     "text": [
      "Error saving file\n"
     ]
    },
    {
     "name": "stdout",
     "output_type": "stream",
     "text": [
      "Error: Request Failed with Artifact 'LakehouseName.Lakehouse' is not found in workspace 'WorkspaceName'.\n",
      "ErrorCode:ArtifactNotFound\n",
      "Task Graph elapsed time: 38.2\n"
     ]
    },
    {
     "name": "stderr",
     "output_type": "stream",
     "text": [
      "Error saving file\n"
     ]
    },
    {
     "name": "stdout",
     "output_type": "stream",
     "text": [
      "Error: Request Failed with Artifact 'LakehouseName.Lakehouse' is not found in workspace 'WorkspaceName'.\n",
      "ErrorCode:ArtifactNotFound\n"
     ]
    },
    {
     "name": "stderr",
     "output_type": "stream",
     "text": [
      "Error saving file\n"
     ]
    },
    {
     "name": "stdout",
     "output_type": "stream",
     "text": [
      "Error: Request Failed with Artifact 'LakehouseName.Lakehouse' is not found in workspace 'WorkspaceName'.\n",
      "ErrorCode:ArtifactNotFound\n"
     ]
    },
    {
     "name": "stderr",
     "output_type": "stream",
     "text": [
      "Error saving file\n"
     ]
    },
    {
     "name": "stdout",
     "output_type": "stream",
     "text": [
      "Error: Request Failed with Artifact 'LakehouseName.Lakehouse' is not found in workspace 'WorkspaceName'.\n",
      "ErrorCode:ArtifactNotFound\n"
     ]
    },
    {
     "name": "stderr",
     "output_type": "stream",
     "text": [
      "Error saving file\n"
     ]
    },
    {
     "name": "stdout",
     "output_type": "stream",
     "text": [
      "Error: Request Failed with Artifact 'LakehouseName.Lakehouse' is not found in workspace 'WorkspaceName'.\n",
      "ErrorCode:ArtifactNotFound\n"
     ]
    },
    {
     "name": "stderr",
     "output_type": "stream",
     "text": [
      "Error saving file\n"
     ]
    },
    {
     "name": "stdout",
     "output_type": "stream",
     "text": [
      "Error: Request Failed with Artifact 'LakehouseName.Lakehouse' is not found in workspace 'WorkspaceName'.\n",
      "ErrorCode:ArtifactNotFound\n"
     ]
    },
    {
     "name": "stderr",
     "output_type": "stream",
     "text": [
      "Error saving file\n"
     ]
    },
    {
     "name": "stdout",
     "output_type": "stream",
     "text": [
      "Error: Request Failed with Artifact 'LakehouseName.Lakehouse' is not found in workspace 'WorkspaceName'.\n",
      "ErrorCode:ArtifactNotFound\n"
     ]
    },
    {
     "name": "stderr",
     "output_type": "stream",
     "text": [
      "Error saving file\n"
     ]
    },
    {
     "name": "stdout",
     "output_type": "stream",
     "text": [
      "Error: Request Failed with Artifact 'LakehouseName.Lakehouse' is not found in workspace 'WorkspaceName'.\n",
      "ErrorCode:ArtifactNotFound\n"
     ]
    },
    {
     "name": "stderr",
     "output_type": "stream",
     "text": [
      "Error saving file\n"
     ]
    },
    {
     "name": "stdout",
     "output_type": "stream",
     "text": [
      "Error: Request Failed with Artifact 'LakehouseName.Lakehouse' is not found in workspace 'WorkspaceName'.\n",
      "ErrorCode:ArtifactNotFound\n"
     ]
    },
    {
     "name": "stderr",
     "output_type": "stream",
     "text": [
      "Error saving file\n"
     ]
    },
    {
     "name": "stdout",
     "output_type": "stream",
     "text": [
      "Error: Request Failed with Artifact 'LakehouseName.Lakehouse' is not found in workspace 'WorkspaceName'.\n",
      "ErrorCode:ArtifactNotFound\n"
     ]
    },
    {
     "name": "stderr",
     "output_type": "stream",
     "text": [
      "Error saving file\n"
     ]
    },
    {
     "name": "stdout",
     "output_type": "stream",
     "text": [
      "Error: Request Failed with Artifact 'LakehouseName.Lakehouse' is not found in workspace 'WorkspaceName'.\n",
      "ErrorCode:ArtifactNotFound\n"
     ]
    },
    {
     "name": "stderr",
     "output_type": "stream",
     "text": [
      "Error saving file\n"
     ]
    },
    {
     "name": "stdout",
     "output_type": "stream",
     "text": [
      "Error: Request Failed with Artifact 'LakehouseName.Lakehouse' is not found in workspace 'WorkspaceName'.\n",
      "ErrorCode:ArtifactNotFound\n"
     ]
    },
    {
     "name": "stderr",
     "output_type": "stream",
     "text": [
      "Error saving file\n"
     ]
    },
    {
     "name": "stdout",
     "output_type": "stream",
     "text": [
      "Error: Request Failed with Artifact 'LakehouseName.Lakehouse' is not found in workspace 'WorkspaceName'.\n",
      "ErrorCode:ArtifactNotFound\n"
     ]
    },
    {
     "name": "stderr",
     "output_type": "stream",
     "text": [
      "Error saving file\n"
     ]
    },
    {
     "name": "stdout",
     "output_type": "stream",
     "text": [
      "Error: Request Failed with Artifact 'LakehouseName.Lakehouse' is not found in workspace 'WorkspaceName'.\n",
      "ErrorCode:ArtifactNotFound\n",
      "\n",
      "Total elapsed time: 63.3\n"
     ]
    },
    {
     "ename": "CancelledError",
     "evalue": "",
     "output_type": "error",
     "traceback": [
      "\u001b[0;31m---------------------------------------------------------------------------\u001b[0m",
      "\u001b[0;31mCancelledError\u001b[0m                            Traceback (most recent call last)",
      "File \u001b[0;32m~/projects/fabric/monitor/admin/env/modules/activity.py:66\u001b[0m, in \u001b[0;36mmain.<locals>.activity_events\u001b[0;34m(url, headers, pivotDate, pageIndex)\u001b[0m\n\u001b[1;32m     65\u001b[0m             pageIndex\u001b[38;5;241m+\u001b[39m\u001b[38;5;241m=\u001b[39m\u001b[38;5;241m1\u001b[39m\n\u001b[0;32m---> 66\u001b[0m             \u001b[38;5;28;01mawait\u001b[39;00m activity_events(url\u001b[38;5;241m=\u001b[39mcontinuationUri, headers\u001b[38;5;241m=\u001b[39mhead, pivotDate\u001b[38;5;241m=\u001b[39mpivotDate, pageIndex\u001b[38;5;241m=\u001b[39mpageIndex)\n\u001b[1;32m     67\u001b[0m \u001b[38;5;28;01mexcept\u001b[39;00m \u001b[38;5;167;01mException\u001b[39;00m \u001b[38;5;28;01mas\u001b[39;00m e:\n",
      "File \u001b[0;32m~/projects/fabric/monitor/admin/env/modules/activity.py:66\u001b[0m, in \u001b[0;36mmain.<locals>.activity_events\u001b[0;34m(url, headers, pivotDate, pageIndex)\u001b[0m\n\u001b[1;32m     65\u001b[0m             pageIndex\u001b[38;5;241m+\u001b[39m\u001b[38;5;241m=\u001b[39m\u001b[38;5;241m1\u001b[39m\n\u001b[0;32m---> 66\u001b[0m             \u001b[38;5;28;01mawait\u001b[39;00m activity_events(url\u001b[38;5;241m=\u001b[39mcontinuationUri, headers\u001b[38;5;241m=\u001b[39mhead, pivotDate\u001b[38;5;241m=\u001b[39mpivotDate, pageIndex\u001b[38;5;241m=\u001b[39mpageIndex)\n\u001b[1;32m     67\u001b[0m \u001b[38;5;28;01mexcept\u001b[39;00m \u001b[38;5;167;01mException\u001b[39;00m \u001b[38;5;28;01mas\u001b[39;00m e:\n",
      "    \u001b[0;31m[... skipping similar frames: main.<locals>.activity_events at line 66 (3 times)]\u001b[0m\n",
      "File \u001b[0;32m~/projects/fabric/monitor/admin/env/modules/activity.py:66\u001b[0m, in \u001b[0;36mmain.<locals>.activity_events\u001b[0;34m(url, headers, pivotDate, pageIndex)\u001b[0m\n\u001b[1;32m     65\u001b[0m             pageIndex\u001b[38;5;241m+\u001b[39m\u001b[38;5;241m=\u001b[39m\u001b[38;5;241m1\u001b[39m\n\u001b[0;32m---> 66\u001b[0m             \u001b[38;5;28;01mawait\u001b[39;00m activity_events(url\u001b[38;5;241m=\u001b[39mcontinuationUri, headers\u001b[38;5;241m=\u001b[39mhead, pivotDate\u001b[38;5;241m=\u001b[39mpivotDate, pageIndex\u001b[38;5;241m=\u001b[39mpageIndex)\n\u001b[1;32m     67\u001b[0m \u001b[38;5;28;01mexcept\u001b[39;00m \u001b[38;5;167;01mException\u001b[39;00m \u001b[38;5;28;01mas\u001b[39;00m e:\n",
      "File \u001b[0;32m~/projects/fabric/monitor/admin/env/modules/activity.py:38\u001b[0m, in \u001b[0;36mmain.<locals>.activity_events\u001b[0;34m(url, headers, pivotDate, pageIndex)\u001b[0m\n\u001b[1;32m     36\u001b[0m audits \u001b[38;5;241m=\u001b[39m \u001b[38;5;28mlist\u001b[39m()\n\u001b[0;32m---> 38\u001b[0m result \u001b[38;5;241m=\u001b[39m \u001b[38;5;28;01mawait\u001b[39;00m context\u001b[38;5;241m.\u001b[39minvokeAPI(rest_api\u001b[38;5;241m=\u001b[39murl, headers\u001b[38;5;241m=\u001b[39mheaders)\n\u001b[1;32m     40\u001b[0m \u001b[38;5;66;03m# check the https response code for 200\u001b[39;00m\n",
      "File \u001b[0;32m~/projects/fabric/monitor/admin/env/context.py:243\u001b[0m, in \u001b[0;36mContext.invokeAPI\u001b[0;34m(self, rest_api, headers, json)\u001b[0m\n\u001b[1;32m    242\u001b[0m \u001b[38;5;28;01masync\u001b[39;00m \u001b[38;5;28;01mwith\u001b[39;00m aiohttp\u001b[38;5;241m.\u001b[39mClientSession() \u001b[38;5;28;01mas\u001b[39;00m session:\n\u001b[0;32m--> 243\u001b[0m     \u001b[38;5;28;01masync\u001b[39;00m \u001b[38;5;28;01mwith\u001b[39;00m session\u001b[38;5;241m.\u001b[39mget(url\u001b[38;5;241m=\u001b[39mrest_api, headers\u001b[38;5;241m=\u001b[39mheaders) \u001b[38;5;28;01mas\u001b[39;00m response:\n\u001b[1;32m    244\u001b[0m         \u001b[38;5;28;01mtry\u001b[39;00m:\n",
      "File \u001b[0;32m~/miniconda3/envs/fabric/lib/python3.10/site-packages/aiohttp/client.py:1194\u001b[0m, in \u001b[0;36m_BaseRequestContextManager.__aenter__\u001b[0;34m(self)\u001b[0m\n\u001b[1;32m   1193\u001b[0m \u001b[38;5;28;01masync\u001b[39;00m \u001b[38;5;28;01mdef\u001b[39;00m \u001b[38;5;21m__aenter__\u001b[39m(\u001b[38;5;28mself\u001b[39m) \u001b[38;5;241m-\u001b[39m\u001b[38;5;241m>\u001b[39m _RetType:\n\u001b[0;32m-> 1194\u001b[0m     \u001b[38;5;28mself\u001b[39m\u001b[38;5;241m.\u001b[39m_resp \u001b[38;5;241m=\u001b[39m \u001b[38;5;28;01mawait\u001b[39;00m \u001b[38;5;28mself\u001b[39m\u001b[38;5;241m.\u001b[39m_coro\n\u001b[1;32m   1195\u001b[0m     \u001b[38;5;28;01mreturn\u001b[39;00m \u001b[38;5;28mself\u001b[39m\u001b[38;5;241m.\u001b[39m_resp\n",
      "File \u001b[0;32m~/miniconda3/envs/fabric/lib/python3.10/site-packages/aiohttp/client.py:605\u001b[0m, in \u001b[0;36mClientSession._request\u001b[0;34m(self, method, str_or_url, params, data, json, cookies, headers, skip_auto_headers, auth, allow_redirects, max_redirects, compress, chunked, expect100, raise_for_status, read_until_eof, proxy, proxy_auth, timeout, verify_ssl, fingerprint, ssl_context, ssl, server_hostname, proxy_headers, trace_request_ctx, read_bufsize, auto_decompress, max_line_size, max_field_size)\u001b[0m\n\u001b[1;32m    604\u001b[0m \u001b[38;5;28;01mtry\u001b[39;00m:\n\u001b[0;32m--> 605\u001b[0m     \u001b[38;5;28;01mawait\u001b[39;00m resp\u001b[38;5;241m.\u001b[39mstart(conn)\n\u001b[1;32m    606\u001b[0m \u001b[38;5;28;01mexcept\u001b[39;00m \u001b[38;5;167;01mBaseException\u001b[39;00m:\n",
      "File \u001b[0;32m~/miniconda3/envs/fabric/lib/python3.10/site-packages/aiohttp/client_reqrep.py:966\u001b[0m, in \u001b[0;36mClientResponse.start\u001b[0;34m(self, connection)\u001b[0m\n\u001b[1;32m    965\u001b[0m     protocol \u001b[38;5;241m=\u001b[39m \u001b[38;5;28mself\u001b[39m\u001b[38;5;241m.\u001b[39m_protocol\n\u001b[0;32m--> 966\u001b[0m     message, payload \u001b[38;5;241m=\u001b[39m \u001b[38;5;28;01mawait\u001b[39;00m protocol\u001b[38;5;241m.\u001b[39mread()  \u001b[38;5;66;03m# type: ignore[union-attr]\u001b[39;00m\n\u001b[1;32m    967\u001b[0m \u001b[38;5;28;01mexcept\u001b[39;00m http\u001b[38;5;241m.\u001b[39mHttpProcessingError \u001b[38;5;28;01mas\u001b[39;00m exc:\n",
      "File \u001b[0;32m~/miniconda3/envs/fabric/lib/python3.10/site-packages/aiohttp/streams.py:622\u001b[0m, in \u001b[0;36mDataQueue.read\u001b[0;34m(self)\u001b[0m\n\u001b[1;32m    621\u001b[0m \u001b[38;5;28;01mtry\u001b[39;00m:\n\u001b[0;32m--> 622\u001b[0m     \u001b[38;5;28;01mawait\u001b[39;00m \u001b[38;5;28mself\u001b[39m\u001b[38;5;241m.\u001b[39m_waiter\n\u001b[1;32m    623\u001b[0m \u001b[38;5;28;01mexcept\u001b[39;00m (asyncio\u001b[38;5;241m.\u001b[39mCancelledError, asyncio\u001b[38;5;241m.\u001b[39mTimeoutError):\n",
      "\u001b[0;31mCancelledError\u001b[0m: ",
      "\nDuring handling of the above exception, another exception occurred:\n",
      "\u001b[0;31mCancelledError\u001b[0m                            Traceback (most recent call last)",
      "Cell \u001b[0;32mIn[5], line 41\u001b[0m\n\u001b[1;32m     38\u001b[0m audit\u001b[38;5;241m.\u001b[39mset_Gateway_cron(\u001b[38;5;124m\"\u001b[39m\u001b[38;5;124m* * * * * 30\u001b[39m\u001b[38;5;124m\"\u001b[39m)\n\u001b[1;32m     40\u001b[0m \u001b[38;5;66;03m# Run the application\u001b[39;00m\n\u001b[0;32m---> 41\u001b[0m \u001b[38;5;28;01mawait\u001b[39;00m audit\u001b[38;5;241m.\u001b[39mrun()\n",
      "File \u001b[0;32m~/projects/fabric/monitor/admin/env/audit.py:147\u001b[0m, in \u001b[0;36mAudits.run\u001b[0;34m(self)\u001b[0m\n\u001b[1;32m    144\u001b[0m     gather_tasks\u001b[38;5;241m.\u001b[39mappend(asyncio\u001b[38;5;241m.\u001b[39mcreate_task(task(\u001b[38;5;124mf\u001b[39m\u001b[38;5;124m\"\u001b[39m\u001b[38;5;132;01m{\u001b[39;00mmodule\u001b[38;5;132;01m}\u001b[39;00m\u001b[38;5;124m\"\u001b[39m, work_queue, content\u001b[38;5;241m=\u001b[39m\u001b[38;5;28mself\u001b[39m\u001b[38;5;241m.\u001b[39mcontext)))\n\u001b[1;32m    146\u001b[0m \u001b[38;5;28;01mwith\u001b[39;00m Timer(text\u001b[38;5;241m=\u001b[39m\u001b[38;5;124m\"\u001b[39m\u001b[38;5;130;01m\\n\u001b[39;00m\u001b[38;5;124mTotal elapsed time: \u001b[39m\u001b[38;5;132;01m{:.1f}\u001b[39;00m\u001b[38;5;124m\"\u001b[39m):\n\u001b[0;32m--> 147\u001b[0m     \u001b[38;5;28;01mawait\u001b[39;00m asyncio\u001b[38;5;241m.\u001b[39mgather(\u001b[38;5;241m*\u001b[39mgather_tasks)\n\u001b[1;32m    149\u001b[0m \u001b[38;5;28;01mif\u001b[39;00m \u001b[38;5;28misinstance\u001b[39m(current_state, \u001b[38;5;28mstr\u001b[39m):\n\u001b[1;32m    150\u001b[0m     current_state \u001b[38;5;241m=\u001b[39m json\u001b[38;5;241m.\u001b[39mloads(current_state)\n",
      "\u001b[0;31mCancelledError\u001b[0m: "
     ]
    }
   ],
   "source": [
    "# Welcome to your new notebook\n",
    "# Type here in the cell editor to add code!\n",
    "\n",
    "# from notebookutils import mssparkutils\n",
    "from azure.identity import ClientSecretCredential, DefaultAzureCredential\n",
    "from azure.keyvault.secrets import SecretClient\n",
    "\n",
    "LakehouseName = \"LochMonitor\"\n",
    "WarehouseName = \"\"\n",
    "WorkspaceName = \"FabricMonitor\"\n",
    "\n",
    "\n",
    "# must have\n",
    "audit.set_LakehouseName(LakehouseName)  \n",
    "audit.set_WorkspaceName(WorkspaceName) \n",
    "\n",
    "# optional\n",
    "audit.set_ApplicationModules(\"Activity,Apps,Capacity,Catalog,Domains,FabricItems,Gateway,Graph,Refreshables,RefreshHistory,Tenant,Workspaces\")\n",
    "# audit.set_ApplicationModules(\"Catalog\")\n",
    "audit.set_PathInLakehouse(\"stage\")\n",
    "audit.set_all_workspaces(False)\n",
    "\n",
    "audit.include_personal_workspaces = False\n",
    "audit.exclude_inactivate_workspaces = True\n",
    "\n",
    "\n",
    "# set cron for modules \n",
    "audit.set_Activity_cron(\"* * * * * 30\")\n",
    "audit.set_Catalog_cron(\"* * * * * 30\")\n",
    "audit.set_Capacity_cron(\"* * * * * 30\")\n",
    "audit.set_Apps_cron(\"* * * * * 30\")\n",
    "audit.set_Domains_cron(\"* * * * * 30\")\n",
    "audit.set_Graph_cron(\"* * * * * 30\")\n",
    "audit.set_Tenant_cron(\"* * * * * 30\")\n",
    "audit.set_RefreshHistory_cron(\"* * * * * 30\")\n",
    "audit.set_Refreshables_cron(\"* * * * * 30\")\n",
    "audit.set_Gateway_cron(\"* * * * * 30\")\n",
    "\n",
    "# Run the application\n",
    "await audit.run()\n",
    "\n"
   ]
  },
  {
   "cell_type": "markdown",
   "metadata": {},
   "source": [
    "## UPSERT Example"
   ]
  },
  {
   "cell_type": "code",
   "execution_count": null,
   "metadata": {},
   "outputs": [],
   "source": [
    "from delta.tables import DeltaTable\n",
    "\n",
    "# Assuming you have a Delta table named \"my_delta_table\"\n",
    "delta_table_path = \"path/to/delta-table\"  # Replace with your actual path\n",
    "\n",
    "# Create or load your DataFrame (myDataFrame) with the data to be upserted\n",
    "# For demonstration purposes, let's assume you have columns: \"Id\", \"Type\", \"Value\"\n",
    "\n",
    "# Initialize the DeltaTable\n",
    "# delta_table = DeltaTable.forPath(spark, delta_table_path)\n",
    "delta_table = spark.read.format(\"delta\").load(delta_table_path)\n",
    "myDataFrame = spark.read.format(\"delta\").load(myDataFrame_path)\n",
    "\n",
    "# Merge the updates into the Delta table\n",
    "delta_table.alias(\"events\") \\\n",
    "    .merge(myDataFrame.alias(\"updates\"), \"events.Id = updates.Id and events.Type = updates.Type\") \\\n",
    "    .whenMatchedUpdateAll() \\\n",
    "    .whenNotMatchedInsertAll() \\\n",
    "    .execute()\n",
    "\n",
    "# Commit the changes\n",
    "delta_table.toDF().write.format(\"delta\").mode(\"overwrite\").save(delta_table_path)\n"
   ]
  },
  {
   "cell_type": "code",
   "execution_count": null,
   "metadata": {},
   "outputs": [],
   "source": [
    "from pyspark.sql import SparkSession \n",
    "from pyspark.sql.types import StructType, StructField, StringType, TimestampType\n",
    "from pyspark.sql.functions import lit\n",
    "from pyspark import SparkConf\n"
   ]
  },
  {
   "cell_type": "code",
   "execution_count": null,
   "metadata": {},
   "outputs": [],
   "source": [
    "from dataclasses import dataclass, fields, InitVar\n",
    "\n",
    "@dataclass\n",
    "class Rectangle:\n",
    "    width: int\n",
    "    height: int\n",
    "\n",
    "    def area(self):\n",
    "        return self.width * self.height\n",
    "\n",
    "    def perimeter(self):\n",
    "        return 2 * (self.width + self.height)\n",
    "    \n",
    "@dataclass\n",
    "class ColoredRectangle(Rectangle):\n",
    "    color: str\n",
    "\n",
    "\n",
    "@dataclass\n",
    "class C:\n",
    "    i: int\n",
    "    j: int | None = None\n",
    "    database: InitVar[str|None] = None\n",
    "\n",
    "    def __post_init__(self, database):\n",
    "        if self.j is None and database is not None:\n",
    "            self.j = database.lookup(\"j\")\n",
    "\n",
    "\n",
    "c = C(10, database={\"j\": \"value\"})\n",
    "print(c.j)\n",
    "rect = ColoredRectangle(3, 4, 'blue')\n",
    "\n",
    "print(rect.area())\n",
    "print(rect.color)"
   ]
  },
  {
   "cell_type": "code",
   "execution_count": null,
   "metadata": {},
   "outputs": [],
   "source": []
  },
  {
   "cell_type": "code",
   "execution_count": 3,
   "metadata": {},
   "outputs": [
    {
     "name": "stdout",
     "output_type": "stream",
     "text": [
      "False\n"
     ]
    }
   ],
   "source": [
    "def is_key_nested(d, key):\n",
    "    if key in d:\n",
    "        return True\n",
    "    for k, v in d.items():\n",
    "        if isinstance(v, dict):\n",
    "            if is_key_nested(v, key):\n",
    "                return True\n",
    "        elif isinstance(v, list):\n",
    "            for item in v:\n",
    "                if isinstance(item, dict) and is_key_nested(item, key):\n",
    "                    return True\n",
    "    return False\n",
    "\n",
    "is_datasets_nested = is_key_nested(myDict, 'datasets')\n",
    "print(is_datasets_nested)\n"
   ]
  },
  {
   "cell_type": "code",
   "execution_count": null,
   "metadata": {},
   "outputs": [],
   "source": [
    "from langchain.text_splitter import RecursiveCharacterTextSplitter\n",
    "from azure.search.documents import SearchClient\n",
    "from azure.search.documents.indexes import SearchIndexClient\n",
    "from azure.search.documents.indexes.models import SearchIndex, SimpleField, SearchFieldDataType\n",
    "from azure.core.credentials import AzureKeyCredential\n",
    "from langchain.embeddings import OpenAIEmbeddings\n",
    "\n",
    "# Initialize the text splitter\n",
    "text_splitter = RecursiveCharacterTextSplitter(chunk_size=1000, chunk_overlap=100)\n",
    "\n",
    "# Read the binary file\n",
    "file_path = \"path/to/your/binary/file\"\n",
    "with open(file_path, \"rb\") as file:\n",
    "    binary_content = file.read()\n",
    "\n",
    "# Convert binary content to text (assuming it's text-based binary like PDF)\n",
    "text_content = binary_content.decode('utf-8')\n",
    "\n",
    "# Split the text content into chunks\n",
    "chunks = text_splitter.split_text(text_content)\n",
    "\n",
    "# Azure Search service details\n",
    "search_service_name = \"your-search-service-name\"\n",
    "index_name = \"your-index-name\"\n",
    "admin_key = \"your-admin-key\"\n",
    "\n",
    "# Create a SearchClient\n",
    "search_client = SearchClient(\n",
    "    endpoint=f\"https://{search_service_name}.search.windows.net\",\n",
    "    index_name=index_name,\n",
    "    credential=AzureKeyCredential(admin_key)\n",
    ")\n",
    "\n",
    "# Insert chunks into Azure AI Search Index\n",
    "for i, chunk in enumerate(chunks):\n",
    "    document = {\n",
    "        \"id\": str(i),\n",
    "        \"content\": chunk\n",
    "    }\n",
    "    search_client.upload_documents(documents=[document])\n",
    "\n",
    "print(\"Chunks inserted into Azure AI Search Index successfully.\")\n",
    "# Initialize the OpenAI embeddings\n",
    "embeddings = OpenAIEmbeddings()\n",
    "\n",
    "# Generate embeddings for each chunk\n",
    "embedded_chunks = [embeddings.embed(chunk) for chunk in chunks]\n",
    "\n",
    "# Insert embedded chunks into Azure AI Search Index\n",
    "for i, (chunk, embedding) in enumerate(zip(chunks, embedded_chunks)):\n",
    "    document = {\n",
    "        \"id\": str(i),\n",
    "        \"content\": chunk,\n",
    "        \"embedding\": embedding\n",
    "    }\n",
    "    search_client.upload_documents(documents=[document])\n",
    "\n",
    "print(\"Chunks with embeddings inserted into Azure AI Search Index successfully.\")"
   ]
  },
  {
   "cell_type": "code",
   "execution_count": null,
   "metadata": {},
   "outputs": [],
   "source": []
  },
  {
   "cell_type": "code",
   "execution_count": 11,
   "metadata": {},
   "outputs": [
    {
     "name": "stdout",
     "output_type": "stream",
     "text": [
      "[{'metadata': {}, 'name': 'workspaces', 'nullable': True, 'type': {'fields': [{'metadata': {}, 'name': 'Environment', 'nullable': True, 'type': {'containsNull': True, 'elementType': {'fields': [{'metadata': {}, 'name': 'createdBy', 'nullable': True, 'type': 'string'}, {'metadata': {}, 'name': 'createdById', 'nullable': True, 'type': 'string'}, {'metadata': {}, 'name': 'createdDate', 'nullable': True, 'type': 'string'}, {'metadata': {}, 'name': 'description', 'nullable': True, 'type': 'string'}, {'metadata': {}, 'name': 'id', 'nullable': True, 'type': 'string'}, {'metadata': {}, 'name': 'lastUpdatedDate', 'nullable': True, 'type': 'string'}, {'metadata': {}, 'name': 'modifiedBy', 'nullable': True, 'type': 'string'}, {'metadata': {}, 'name': 'modifiedById', 'nullable': True, 'type': 'string'}, {'metadata': {}, 'name': 'name', 'nullable': True, 'type': 'string'}, {'metadata': {}, 'name': 'state', 'nullable': True, 'type': 'string'}], 'type': 'struct'}, 'type': 'array'}}, {'metadata': {}, 'name': 'KQLQueryset', 'nullable': True, 'type': {'containsNull': True, 'elementType': {'fields': [{'metadata': {}, 'name': 'createdBy', 'nullable': True, 'type': 'string'}, {'metadata': {}, 'name': 'createdById', 'nullable': True, 'type': 'string'}, {'metadata': {}, 'name': 'createdDate', 'nullable': True, 'type': 'string'}, {'metadata': {}, 'name': 'description', 'nullable': True, 'type': 'string'}, {'metadata': {}, 'name': 'id', 'nullable': True, 'type': 'string'}, {'metadata': {}, 'name': 'lastUpdatedDate', 'nullable': True, 'type': 'string'}, {'metadata': {}, 'name': 'modifiedBy', 'nullable': True, 'type': 'string'}, {'metadata': {}, 'name': 'modifiedById', 'nullable': True, 'type': 'string'}, {'metadata': {}, 'name': 'name', 'nullable': True, 'type': 'string'}, {'metadata': {}, 'name': 'state', 'nullable': True, 'type': 'string'}], 'type': 'struct'}, 'type': 'array'}}, {'metadata': {}, 'name': 'Lakehouse', 'nullable': True, 'type': {'containsNull': True, 'elementType': {'fields': [{'metadata': {}, 'name': 'createdBy', 'nullable': True, 'type': 'string'}, {'metadata': {}, 'name': 'createdById', 'nullable': True, 'type': 'string'}, {'metadata': {}, 'name': 'createdDate', 'nullable': True, 'type': 'string'}, {'metadata': {}, 'name': 'description', 'nullable': True, 'type': 'string'}, {'metadata': {}, 'name': 'extendedProperties', 'nullable': True, 'type': {'fields': [{'metadata': {}, 'name': 'DefaultSchema', 'nullable': True, 'type': 'string'}, {'metadata': {}, 'name': 'DwProperties', 'nullable': True, 'type': 'string'}, {'metadata': {}, 'name': 'OneLakeFilesPath', 'nullable': True, 'type': 'string'}, {'metadata': {}, 'name': 'OneLakeTablesPath', 'nullable': True, 'type': 'string'}], 'type': 'struct'}}, {'metadata': {}, 'name': 'id', 'nullable': True, 'type': 'string'}, {'metadata': {}, 'name': 'lastUpdatedDate', 'nullable': True, 'type': 'string'}, {'metadata': {}, 'name': 'modifiedBy', 'nullable': True, 'type': 'string'}, {'metadata': {}, 'name': 'modifiedById', 'nullable': True, 'type': 'string'}, {'metadata': {}, 'name': 'name', 'nullable': True, 'type': 'string'}, {'metadata': {}, 'name': 'state', 'nullable': True, 'type': 'string'}], 'type': 'struct'}, 'type': 'array'}}, {'metadata': {}, 'name': 'MLExperiment', 'nullable': True, 'type': {'containsNull': True, 'elementType': {'fields': [{'metadata': {}, 'name': 'createdBy', 'nullable': True, 'type': 'string'}, {'metadata': {}, 'name': 'createdById', 'nullable': True, 'type': 'string'}, {'metadata': {}, 'name': 'createdDate', 'nullable': True, 'type': 'string'}, {'metadata': {}, 'name': 'description', 'nullable': True, 'type': 'string'}, {'metadata': {}, 'name': 'extendedProperties', 'nullable': True, 'type': {'fields': [{'metadata': {}, 'name': 'AmlExperimentId', 'nullable': True, 'type': 'string'}, {'metadata': {}, 'name': 'MLFlowExperimentId', 'nullable': True, 'type': 'string'}], 'type': 'struct'}}, {'metadata': {}, 'name': 'id', 'nullable': True, 'type': 'string'}, {'metadata': {}, 'name': 'lastUpdatedDate', 'nullable': True, 'type': 'string'}, {'metadata': {}, 'name': 'modifiedBy', 'nullable': True, 'type': 'string'}, {'metadata': {}, 'name': 'modifiedById', 'nullable': True, 'type': 'string'}, {'metadata': {}, 'name': 'name', 'nullable': True, 'type': 'string'}, {'metadata': {}, 'name': 'state', 'nullable': True, 'type': 'string'}], 'type': 'struct'}, 'type': 'array'}}, {'metadata': {}, 'name': 'MLModel', 'nullable': True, 'type': {'containsNull': True, 'elementType': {'fields': [{'metadata': {}, 'name': 'createdBy', 'nullable': True, 'type': 'string'}, {'metadata': {}, 'name': 'createdById', 'nullable': True, 'type': 'string'}, {'metadata': {}, 'name': 'createdDate', 'nullable': True, 'type': 'string'}, {'metadata': {}, 'name': 'description', 'nullable': True, 'type': 'string'}, {'metadata': {}, 'name': 'id', 'nullable': True, 'type': 'string'}, {'metadata': {}, 'name': 'lastUpdatedDate', 'nullable': True, 'type': 'string'}, {'metadata': {}, 'name': 'modifiedBy', 'nullable': True, 'type': 'string'}, {'metadata': {}, 'name': 'modifiedById', 'nullable': True, 'type': 'string'}, {'metadata': {}, 'name': 'name', 'nullable': True, 'type': 'string'}, {'metadata': {}, 'name': 'relations', 'nullable': True, 'type': {'containsNull': True, 'elementType': {'fields': [{'metadata': {}, 'name': 'dependentOnArtifactId', 'nullable': True, 'type': 'string'}, {'metadata': {}, 'name': 'relationType', 'nullable': True, 'type': 'string'}, {'metadata': {}, 'name': 'settingsList', 'nullable': True, 'type': 'string'}, {'metadata': {}, 'name': 'usage', 'nullable': True, 'type': 'string'}, {'metadata': {}, 'name': 'workspaceId', 'nullable': True, 'type': 'string'}], 'type': 'struct'}, 'type': 'array'}}, {'metadata': {}, 'name': 'state', 'nullable': True, 'type': 'string'}], 'type': 'struct'}, 'type': 'array'}}, {'metadata': {}, 'name': 'Notebook', 'nullable': True, 'type': {'containsNull': True, 'elementType': {'fields': [{'metadata': {}, 'name': 'createdBy', 'nullable': True, 'type': 'string'}, {'metadata': {}, 'name': 'createdById', 'nullable': True, 'type': 'string'}, {'metadata': {}, 'name': 'createdDate', 'nullable': True, 'type': 'string'}, {'metadata': {}, 'name': 'description', 'nullable': True, 'type': 'string'}, {'metadata': {}, 'name': 'id', 'nullable': True, 'type': 'string'}, {'metadata': {}, 'name': 'lastUpdatedDate', 'nullable': True, 'type': 'string'}, {'metadata': {}, 'name': 'modifiedBy', 'nullable': True, 'type': 'string'}, {'metadata': {}, 'name': 'modifiedById', 'nullable': True, 'type': 'string'}, {'metadata': {}, 'name': 'name', 'nullable': True, 'type': 'string'}, {'metadata': {}, 'name': 'relations', 'nullable': True, 'type': {'containsNull': True, 'elementType': {'fields': [{'metadata': {}, 'name': 'dependentOnArtifactId', 'nullable': True, 'type': 'string'}, {'metadata': {}, 'name': 'relationType', 'nullable': True, 'type': 'string'}, {'metadata': {}, 'name': 'settingsList', 'nullable': True, 'type': 'string'}, {'metadata': {}, 'name': 'usage', 'nullable': True, 'type': 'string'}, {'metadata': {}, 'name': 'workspaceId', 'nullable': True, 'type': 'string'}], 'type': 'struct'}, 'type': 'array'}}, {'metadata': {}, 'name': 'state', 'nullable': True, 'type': 'string'}], 'type': 'struct'}, 'type': 'array'}}, {'metadata': {}, 'name': 'Reflex', 'nullable': True, 'type': {'containsNull': True, 'elementType': {'fields': [{'metadata': {}, 'name': 'createdBy', 'nullable': True, 'type': 'string'}, {'metadata': {}, 'name': 'createdById', 'nullable': True, 'type': 'string'}, {'metadata': {}, 'name': 'createdDate', 'nullable': True, 'type': 'string'}, {'metadata': {}, 'name': 'description', 'nullable': True, 'type': 'string'}, {'metadata': {}, 'name': 'extendedProperties', 'nullable': True, 'type': {'fields': [{'metadata': {}, 'name': 'Aria.DocumentId', 'nullable': True, 'type': 'string'}], 'type': 'struct'}}, {'metadata': {}, 'name': 'id', 'nullable': True, 'type': 'string'}, {'metadata': {}, 'name': 'lastUpdatedDate', 'nullable': True, 'type': 'string'}, {'metadata': {}, 'name': 'modifiedBy', 'nullable': True, 'type': 'string'}, {'metadata': {}, 'name': 'modifiedById', 'nullable': True, 'type': 'string'}, {'metadata': {}, 'name': 'name', 'nullable': True, 'type': 'string'}, {'metadata': {}, 'name': 'state', 'nullable': True, 'type': 'string'}], 'type': 'struct'}, 'type': 'array'}}, {'metadata': {}, 'name': 'SQLAnalyticsEndpoint', 'nullable': True, 'type': {'containsNull': True, 'elementType': {'fields': [{'metadata': {}, 'name': 'configuredBy', 'nullable': True, 'type': 'string'}, {'metadata': {}, 'name': 'configuredById', 'nullable': True, 'type': 'string'}, {'metadata': {}, 'name': 'id', 'nullable': True, 'type': 'string'}, {'metadata': {}, 'name': 'modifiedBy', 'nullable': True, 'type': 'string'}, {'metadata': {}, 'name': 'modifiedById', 'nullable': True, 'type': 'string'}, {'metadata': {}, 'name': 'modifiedDateTime', 'nullable': True, 'type': 'string'}, {'metadata': {}, 'name': 'name', 'nullable': True, 'type': 'string'}, {'metadata': {}, 'name': 'relations', 'nullable': True, 'type': {'containsNull': True, 'elementType': {'fields': [{'metadata': {}, 'name': 'dependentOnArtifactId', 'nullable': True, 'type': 'string'}, {'metadata': {}, 'name': 'relationType', 'nullable': True, 'type': 'string'}, {'metadata': {}, 'name': 'settingsList', 'nullable': True, 'type': 'string'}, {'metadata': {}, 'name': 'usage', 'nullable': True, 'type': 'string'}, {'metadata': {}, 'name': 'workspaceId', 'nullable': True, 'type': 'string'}], 'type': 'struct'}, 'type': 'array'}}], 'type': 'struct'}, 'type': 'array'}}, {'metadata': {}, 'name': 'capacityId', 'nullable': True, 'type': 'string'}, {'metadata': {}, 'name': 'dashboards', 'nullable': True, 'type': {'containsNull': True, 'elementType': {'fields': [{'metadata': {}, 'name': 'displayName', 'nullable': True, 'type': 'string'}, {'metadata': {}, 'name': 'id', 'nullable': True, 'type': 'string'}, {'metadata': {}, 'name': 'isReadOnly', 'nullable': True, 'type': 'boolean'}, {'metadata': {}, 'name': 'tiles', 'nullable': True, 'type': {'containsNull': True, 'elementType': {'fields': [{'metadata': {}, 'name': 'datasetId', 'nullable': True, 'type': 'string'}, {'metadata': {}, 'name': 'id', 'nullable': True, 'type': 'string'}, {'metadata': {}, 'name': 'reportId', 'nullable': True, 'type': 'string'}, {'metadata': {}, 'name': 'subTitle', 'nullable': True, 'type': 'string'}, {'metadata': {}, 'name': 'title', 'nullable': True, 'type': 'string'}], 'type': 'struct'}, 'type': 'array'}}], 'type': 'struct'}, 'type': 'array'}}, {'metadata': {}, 'name': 'dataflows', 'nullable': True, 'type': {'containsNull': True, 'elementType': {'fields': [{'metadata': {}, 'name': 'configuredBy', 'nullable': True, 'type': 'string'}, {'metadata': {}, 'name': 'datasourceUsages', 'nullable': True, 'type': {'containsNull': True, 'elementType': {'fields': [{'metadata': {}, 'name': 'datasourceInstanceId', 'nullable': True, 'type': 'string'}], 'type': 'struct'}, 'type': 'array'}}, {'metadata': {}, 'name': 'description', 'nullable': True, 'type': 'string'}, {'metadata': {}, 'name': 'generation', 'nullable': True, 'type': 'long'}, {'metadata': {}, 'name': 'modifiedBy', 'nullable': True, 'type': 'string'}, {'metadata': {}, 'name': 'modifiedDateTime', 'nullable': True, 'type': 'string'}, {'metadata': {}, 'name': 'name', 'nullable': True, 'type': 'string'}, {'metadata': {}, 'name': 'objectId', 'nullable': True, 'type': 'string'}], 'type': 'struct'}, 'type': 'array'}}, {'metadata': {}, 'name': 'datamarts', 'nullable': True, 'type': {'containsNull': True, 'elementType': 'string', 'type': 'array'}}, {'metadata': {}, 'name': 'datasets', 'nullable': True, 'type': {'containsNull': True, 'elementType': {'fields': [{'metadata': {}, 'name': 'configuredBy', 'nullable': True, 'type': 'string'}, {'metadata': {}, 'name': 'configuredById', 'nullable': True, 'type': 'string'}, {'metadata': {}, 'name': 'contentProviderType', 'nullable': True, 'type': 'string'}, {'metadata': {}, 'name': 'createdDate', 'nullable': True, 'type': 'string'}, {'metadata': {}, 'name': 'datasourceUsages', 'nullable': True, 'type': {'containsNull': True, 'elementType': {'fields': [{'metadata': {}, 'name': 'datasourceInstanceId', 'nullable': True, 'type': 'string'}], 'type': 'struct'}, 'type': 'array'}}, {'metadata': {}, 'name': 'directQueryRefreshSchedule', 'nullable': True, 'type': {'fields': [{'metadata': {}, 'name': 'days', 'nullable': True, 'type': {'containsNull': True, 'elementType': 'string', 'type': 'array'}}, {'metadata': {}, 'name': 'frequency', 'nullable': True, 'type': 'long'}, {'metadata': {}, 'name': 'localTimeZoneId', 'nullable': True, 'type': 'string'}, {'metadata': {}, 'name': 'times', 'nullable': True, 'type': {'containsNull': True, 'elementType': 'string', 'type': 'array'}}], 'type': 'struct'}}, {'metadata': {}, 'name': 'expressions', 'nullable': True, 'type': {'containsNull': True, 'elementType': {'fields': [{'metadata': {}, 'name': 'expression', 'nullable': True, 'type': 'string'}, {'metadata': {}, 'name': 'name', 'nullable': True, 'type': 'string'}], 'type': 'struct'}, 'type': 'array'}}, {'metadata': {}, 'name': 'id', 'nullable': True, 'type': 'string'}, {'metadata': {}, 'name': 'isEffectiveIdentityRequired', 'nullable': True, 'type': 'boolean'}, {'metadata': {}, 'name': 'isEffectiveIdentityRolesRequired', 'nullable': True, 'type': 'boolean'}, {'metadata': {}, 'name': 'name', 'nullable': True, 'type': 'string'}, {'metadata': {}, 'name': 'relations', 'nullable': True, 'type': {'containsNull': True, 'elementType': {'fields': [{'metadata': {}, 'name': 'dependentOnArtifactId', 'nullable': True, 'type': 'string'}, {'metadata': {}, 'name': 'relationType', 'nullable': True, 'type': 'string'}, {'metadata': {}, 'name': 'settingsList', 'nullable': True, 'type': 'string'}, {'metadata': {}, 'name': 'usage', 'nullable': True, 'type': 'string'}, {'metadata': {}, 'name': 'workspaceId', 'nullable': True, 'type': 'string'}], 'type': 'struct'}, 'type': 'array'}}, {'metadata': {}, 'name': 'schemaRetrievalError', 'nullable': True, 'type': 'string'}, {'metadata': {}, 'name': 'tables', 'nullable': True, 'type': {'containsNull': True, 'elementType': {'fields': [{'metadata': {}, 'name': 'columns', 'nullable': True, 'type': {'containsNull': True, 'elementType': {'fields': [{'metadata': {}, 'name': 'columnType', 'nullable': True, 'type': 'string'}, {'metadata': {}, 'name': 'dataType', 'nullable': True, 'type': 'string'}, {'metadata': {}, 'name': 'expression', 'nullable': True, 'type': 'string'}, {'metadata': {}, 'name': 'isHidden', 'nullable': True, 'type': 'boolean'}, {'metadata': {}, 'name': 'name', 'nullable': True, 'type': 'string'}], 'type': 'struct'}, 'type': 'array'}}, {'metadata': {}, 'name': 'isHidden', 'nullable': True, 'type': 'boolean'}, {'metadata': {}, 'name': 'measures', 'nullable': True, 'type': {'containsNull': True, 'elementType': {'fields': [{'metadata': {}, 'name': 'expression', 'nullable': True, 'type': 'string'}, {'metadata': {}, 'name': 'isHidden', 'nullable': True, 'type': 'boolean'}, {'metadata': {}, 'name': 'name', 'nullable': True, 'type': 'string'}], 'type': 'struct'}, 'type': 'array'}}, {'metadata': {}, 'name': 'name', 'nullable': True, 'type': 'string'}, {'metadata': {}, 'name': 'source', 'nullable': True, 'type': {'containsNull': True, 'elementType': {'fields': [{'metadata': {}, 'name': 'expression', 'nullable': True, 'type': 'string'}], 'type': 'struct'}, 'type': 'array'}}, {'metadata': {}, 'name': 'storageMode', 'nullable': True, 'type': 'string'}], 'type': 'struct'}, 'type': 'array'}}, {'metadata': {}, 'name': 'targetStorageMode', 'nullable': True, 'type': 'string'}], 'type': 'struct'}, 'type': 'array'}}, {'metadata': {}, 'name': 'defaultDatasetStorageFormat', 'nullable': True, 'type': 'string'}, {'metadata': {}, 'name': 'description', 'nullable': True, 'type': 'string'}, {'metadata': {}, 'name': 'id', 'nullable': True, 'type': 'string'}, {'metadata': {}, 'name': 'isOnDedicatedCapacity', 'nullable': True, 'type': 'boolean'}, {'metadata': {}, 'name': 'name', 'nullable': True, 'type': 'string'}, {'metadata': {}, 'name': 'reports', 'nullable': True, 'type': {'containsNull': True, 'elementType': {'fields': [{'metadata': {}, 'name': 'createdBy', 'nullable': True, 'type': 'string'}, {'metadata': {}, 'name': 'createdById', 'nullable': True, 'type': 'string'}, {'metadata': {}, 'name': 'createdDateTime', 'nullable': True, 'type': 'string'}, {'metadata': {}, 'name': 'datasetId', 'nullable': True, 'type': 'string'}, {'metadata': {}, 'name': 'id', 'nullable': True, 'type': 'string'}, {'metadata': {}, 'name': 'modifiedBy', 'nullable': True, 'type': 'string'}, {'metadata': {}, 'name': 'modifiedById', 'nullable': True, 'type': 'string'}, {'metadata': {}, 'name': 'modifiedDateTime', 'nullable': True, 'type': 'string'}, {'metadata': {}, 'name': 'name', 'nullable': True, 'type': 'string'}, {'metadata': {}, 'name': 'reportType', 'nullable': True, 'type': 'string'}], 'type': 'struct'}, 'type': 'array'}}, {'metadata': {}, 'name': 'state', 'nullable': True, 'type': 'string'}, {'metadata': {}, 'name': 'type', 'nullable': True, 'type': 'string'}, {'metadata': {}, 'name': 'warehouses', 'nullable': True, 'type': {'containsNull': True, 'elementType': {'fields': [{'metadata': {}, 'name': 'configuredBy', 'nullable': True, 'type': 'string'}, {'metadata': {}, 'name': 'configuredById', 'nullable': True, 'type': 'string'}, {'metadata': {}, 'name': 'id', 'nullable': True, 'type': 'string'}, {'metadata': {}, 'name': 'modifiedBy', 'nullable': True, 'type': 'string'}, {'metadata': {}, 'name': 'modifiedById', 'nullable': True, 'type': 'string'}, {'metadata': {}, 'name': 'modifiedDateTime', 'nullable': True, 'type': 'string'}, {'metadata': {}, 'name': 'name', 'nullable': True, 'type': 'string'}], 'type': 'struct'}, 'type': 'array'}}], 'type': 'struct'}}]\n",
      "{}\n",
      "workspaces\n",
      "True\n",
      "{'fields': [{'metadata': {}, 'name': 'Environment', 'nullable': True, 'type': {'containsNull': True, 'elementType': {'fields': [{'metadata': {}, 'name': 'createdBy', 'nullable': True, 'type': 'string'}, {'metadata': {}, 'name': 'createdById', 'nullable': True, 'type': 'string'}, {'metadata': {}, 'name': 'createdDate', 'nullable': True, 'type': 'string'}, {'metadata': {}, 'name': 'description', 'nullable': True, 'type': 'string'}, {'metadata': {}, 'name': 'id', 'nullable': True, 'type': 'string'}, {'metadata': {}, 'name': 'lastUpdatedDate', 'nullable': True, 'type': 'string'}, {'metadata': {}, 'name': 'modifiedBy', 'nullable': True, 'type': 'string'}, {'metadata': {}, 'name': 'modifiedById', 'nullable': True, 'type': 'string'}, {'metadata': {}, 'name': 'name', 'nullable': True, 'type': 'string'}, {'metadata': {}, 'name': 'state', 'nullable': True, 'type': 'string'}], 'type': 'struct'}, 'type': 'array'}}, {'metadata': {}, 'name': 'KQLQueryset', 'nullable': True, 'type': {'containsNull': True, 'elementType': {'fields': [{'metadata': {}, 'name': 'createdBy', 'nullable': True, 'type': 'string'}, {'metadata': {}, 'name': 'createdById', 'nullable': True, 'type': 'string'}, {'metadata': {}, 'name': 'createdDate', 'nullable': True, 'type': 'string'}, {'metadata': {}, 'name': 'description', 'nullable': True, 'type': 'string'}, {'metadata': {}, 'name': 'id', 'nullable': True, 'type': 'string'}, {'metadata': {}, 'name': 'lastUpdatedDate', 'nullable': True, 'type': 'string'}, {'metadata': {}, 'name': 'modifiedBy', 'nullable': True, 'type': 'string'}, {'metadata': {}, 'name': 'modifiedById', 'nullable': True, 'type': 'string'}, {'metadata': {}, 'name': 'name', 'nullable': True, 'type': 'string'}, {'metadata': {}, 'name': 'state', 'nullable': True, 'type': 'string'}], 'type': 'struct'}, 'type': 'array'}}, {'metadata': {}, 'name': 'Lakehouse', 'nullable': True, 'type': {'containsNull': True, 'elementType': {'fields': [{'metadata': {}, 'name': 'createdBy', 'nullable': True, 'type': 'string'}, {'metadata': {}, 'name': 'createdById', 'nullable': True, 'type': 'string'}, {'metadata': {}, 'name': 'createdDate', 'nullable': True, 'type': 'string'}, {'metadata': {}, 'name': 'description', 'nullable': True, 'type': 'string'}, {'metadata': {}, 'name': 'extendedProperties', 'nullable': True, 'type': {'fields': [{'metadata': {}, 'name': 'DefaultSchema', 'nullable': True, 'type': 'string'}, {'metadata': {}, 'name': 'DwProperties', 'nullable': True, 'type': 'string'}, {'metadata': {}, 'name': 'OneLakeFilesPath', 'nullable': True, 'type': 'string'}, {'metadata': {}, 'name': 'OneLakeTablesPath', 'nullable': True, 'type': 'string'}], 'type': 'struct'}}, {'metadata': {}, 'name': 'id', 'nullable': True, 'type': 'string'}, {'metadata': {}, 'name': 'lastUpdatedDate', 'nullable': True, 'type': 'string'}, {'metadata': {}, 'name': 'modifiedBy', 'nullable': True, 'type': 'string'}, {'metadata': {}, 'name': 'modifiedById', 'nullable': True, 'type': 'string'}, {'metadata': {}, 'name': 'name', 'nullable': True, 'type': 'string'}, {'metadata': {}, 'name': 'state', 'nullable': True, 'type': 'string'}], 'type': 'struct'}, 'type': 'array'}}, {'metadata': {}, 'name': 'MLExperiment', 'nullable': True, 'type': {'containsNull': True, 'elementType': {'fields': [{'metadata': {}, 'name': 'createdBy', 'nullable': True, 'type': 'string'}, {'metadata': {}, 'name': 'createdById', 'nullable': True, 'type': 'string'}, {'metadata': {}, 'name': 'createdDate', 'nullable': True, 'type': 'string'}, {'metadata': {}, 'name': 'description', 'nullable': True, 'type': 'string'}, {'metadata': {}, 'name': 'extendedProperties', 'nullable': True, 'type': {'fields': [{'metadata': {}, 'name': 'AmlExperimentId', 'nullable': True, 'type': 'string'}, {'metadata': {}, 'name': 'MLFlowExperimentId', 'nullable': True, 'type': 'string'}], 'type': 'struct'}}, {'metadata': {}, 'name': 'id', 'nullable': True, 'type': 'string'}, {'metadata': {}, 'name': 'lastUpdatedDate', 'nullable': True, 'type': 'string'}, {'metadata': {}, 'name': 'modifiedBy', 'nullable': True, 'type': 'string'}, {'metadata': {}, 'name': 'modifiedById', 'nullable': True, 'type': 'string'}, {'metadata': {}, 'name': 'name', 'nullable': True, 'type': 'string'}, {'metadata': {}, 'name': 'state', 'nullable': True, 'type': 'string'}], 'type': 'struct'}, 'type': 'array'}}, {'metadata': {}, 'name': 'MLModel', 'nullable': True, 'type': {'containsNull': True, 'elementType': {'fields': [{'metadata': {}, 'name': 'createdBy', 'nullable': True, 'type': 'string'}, {'metadata': {}, 'name': 'createdById', 'nullable': True, 'type': 'string'}, {'metadata': {}, 'name': 'createdDate', 'nullable': True, 'type': 'string'}, {'metadata': {}, 'name': 'description', 'nullable': True, 'type': 'string'}, {'metadata': {}, 'name': 'id', 'nullable': True, 'type': 'string'}, {'metadata': {}, 'name': 'lastUpdatedDate', 'nullable': True, 'type': 'string'}, {'metadata': {}, 'name': 'modifiedBy', 'nullable': True, 'type': 'string'}, {'metadata': {}, 'name': 'modifiedById', 'nullable': True, 'type': 'string'}, {'metadata': {}, 'name': 'name', 'nullable': True, 'type': 'string'}, {'metadata': {}, 'name': 'relations', 'nullable': True, 'type': {'containsNull': True, 'elementType': {'fields': [{'metadata': {}, 'name': 'dependentOnArtifactId', 'nullable': True, 'type': 'string'}, {'metadata': {}, 'name': 'relationType', 'nullable': True, 'type': 'string'}, {'metadata': {}, 'name': 'settingsList', 'nullable': True, 'type': 'string'}, {'metadata': {}, 'name': 'usage', 'nullable': True, 'type': 'string'}, {'metadata': {}, 'name': 'workspaceId', 'nullable': True, 'type': 'string'}], 'type': 'struct'}, 'type': 'array'}}, {'metadata': {}, 'name': 'state', 'nullable': True, 'type': 'string'}], 'type': 'struct'}, 'type': 'array'}}, {'metadata': {}, 'name': 'Notebook', 'nullable': True, 'type': {'containsNull': True, 'elementType': {'fields': [{'metadata': {}, 'name': 'createdBy', 'nullable': True, 'type': 'string'}, {'metadata': {}, 'name': 'createdById', 'nullable': True, 'type': 'string'}, {'metadata': {}, 'name': 'createdDate', 'nullable': True, 'type': 'string'}, {'metadata': {}, 'name': 'description', 'nullable': True, 'type': 'string'}, {'metadata': {}, 'name': 'id', 'nullable': True, 'type': 'string'}, {'metadata': {}, 'name': 'lastUpdatedDate', 'nullable': True, 'type': 'string'}, {'metadata': {}, 'name': 'modifiedBy', 'nullable': True, 'type': 'string'}, {'metadata': {}, 'name': 'modifiedById', 'nullable': True, 'type': 'string'}, {'metadata': {}, 'name': 'name', 'nullable': True, 'type': 'string'}, {'metadata': {}, 'name': 'relations', 'nullable': True, 'type': {'containsNull': True, 'elementType': {'fields': [{'metadata': {}, 'name': 'dependentOnArtifactId', 'nullable': True, 'type': 'string'}, {'metadata': {}, 'name': 'relationType', 'nullable': True, 'type': 'string'}, {'metadata': {}, 'name': 'settingsList', 'nullable': True, 'type': 'string'}, {'metadata': {}, 'name': 'usage', 'nullable': True, 'type': 'string'}, {'metadata': {}, 'name': 'workspaceId', 'nullable': True, 'type': 'string'}], 'type': 'struct'}, 'type': 'array'}}, {'metadata': {}, 'name': 'state', 'nullable': True, 'type': 'string'}], 'type': 'struct'}, 'type': 'array'}}, {'metadata': {}, 'name': 'Reflex', 'nullable': True, 'type': {'containsNull': True, 'elementType': {'fields': [{'metadata': {}, 'name': 'createdBy', 'nullable': True, 'type': 'string'}, {'metadata': {}, 'name': 'createdById', 'nullable': True, 'type': 'string'}, {'metadata': {}, 'name': 'createdDate', 'nullable': True, 'type': 'string'}, {'metadata': {}, 'name': 'description', 'nullable': True, 'type': 'string'}, {'metadata': {}, 'name': 'extendedProperties', 'nullable': True, 'type': {'fields': [{'metadata': {}, 'name': 'Aria.DocumentId', 'nullable': True, 'type': 'string'}], 'type': 'struct'}}, {'metadata': {}, 'name': 'id', 'nullable': True, 'type': 'string'}, {'metadata': {}, 'name': 'lastUpdatedDate', 'nullable': True, 'type': 'string'}, {'metadata': {}, 'name': 'modifiedBy', 'nullable': True, 'type': 'string'}, {'metadata': {}, 'name': 'modifiedById', 'nullable': True, 'type': 'string'}, {'metadata': {}, 'name': 'name', 'nullable': True, 'type': 'string'}, {'metadata': {}, 'name': 'state', 'nullable': True, 'type': 'string'}], 'type': 'struct'}, 'type': 'array'}}, {'metadata': {}, 'name': 'SQLAnalyticsEndpoint', 'nullable': True, 'type': {'containsNull': True, 'elementType': {'fields': [{'metadata': {}, 'name': 'configuredBy', 'nullable': True, 'type': 'string'}, {'metadata': {}, 'name': 'configuredById', 'nullable': True, 'type': 'string'}, {'metadata': {}, 'name': 'id', 'nullable': True, 'type': 'string'}, {'metadata': {}, 'name': 'modifiedBy', 'nullable': True, 'type': 'string'}, {'metadata': {}, 'name': 'modifiedById', 'nullable': True, 'type': 'string'}, {'metadata': {}, 'name': 'modifiedDateTime', 'nullable': True, 'type': 'string'}, {'metadata': {}, 'name': 'name', 'nullable': True, 'type': 'string'}, {'metadata': {}, 'name': 'relations', 'nullable': True, 'type': {'containsNull': True, 'elementType': {'fields': [{'metadata': {}, 'name': 'dependentOnArtifactId', 'nullable': True, 'type': 'string'}, {'metadata': {}, 'name': 'relationType', 'nullable': True, 'type': 'string'}, {'metadata': {}, 'name': 'settingsList', 'nullable': True, 'type': 'string'}, {'metadata': {}, 'name': 'usage', 'nullable': True, 'type': 'string'}, {'metadata': {}, 'name': 'workspaceId', 'nullable': True, 'type': 'string'}], 'type': 'struct'}, 'type': 'array'}}], 'type': 'struct'}, 'type': 'array'}}, {'metadata': {}, 'name': 'capacityId', 'nullable': True, 'type': 'string'}, {'metadata': {}, 'name': 'dashboards', 'nullable': True, 'type': {'containsNull': True, 'elementType': {'fields': [{'metadata': {}, 'name': 'displayName', 'nullable': True, 'type': 'string'}, {'metadata': {}, 'name': 'id', 'nullable': True, 'type': 'string'}, {'metadata': {}, 'name': 'isReadOnly', 'nullable': True, 'type': 'boolean'}, {'metadata': {}, 'name': 'tiles', 'nullable': True, 'type': {'containsNull': True, 'elementType': {'fields': [{'metadata': {}, 'name': 'datasetId', 'nullable': True, 'type': 'string'}, {'metadata': {}, 'name': 'id', 'nullable': True, 'type': 'string'}, {'metadata': {}, 'name': 'reportId', 'nullable': True, 'type': 'string'}, {'metadata': {}, 'name': 'subTitle', 'nullable': True, 'type': 'string'}, {'metadata': {}, 'name': 'title', 'nullable': True, 'type': 'string'}], 'type': 'struct'}, 'type': 'array'}}], 'type': 'struct'}, 'type': 'array'}}, {'metadata': {}, 'name': 'dataflows', 'nullable': True, 'type': {'containsNull': True, 'elementType': {'fields': [{'metadata': {}, 'name': 'configuredBy', 'nullable': True, 'type': 'string'}, {'metadata': {}, 'name': 'datasourceUsages', 'nullable': True, 'type': {'containsNull': True, 'elementType': {'fields': [{'metadata': {}, 'name': 'datasourceInstanceId', 'nullable': True, 'type': 'string'}], 'type': 'struct'}, 'type': 'array'}}, {'metadata': {}, 'name': 'description', 'nullable': True, 'type': 'string'}, {'metadata': {}, 'name': 'generation', 'nullable': True, 'type': 'long'}, {'metadata': {}, 'name': 'modifiedBy', 'nullable': True, 'type': 'string'}, {'metadata': {}, 'name': 'modifiedDateTime', 'nullable': True, 'type': 'string'}, {'metadata': {}, 'name': 'name', 'nullable': True, 'type': 'string'}, {'metadata': {}, 'name': 'objectId', 'nullable': True, 'type': 'string'}], 'type': 'struct'}, 'type': 'array'}}, {'metadata': {}, 'name': 'datamarts', 'nullable': True, 'type': {'containsNull': True, 'elementType': 'string', 'type': 'array'}}, {'metadata': {}, 'name': 'datasets', 'nullable': True, 'type': {'containsNull': True, 'elementType': {'fields': [{'metadata': {}, 'name': 'configuredBy', 'nullable': True, 'type': 'string'}, {'metadata': {}, 'name': 'configuredById', 'nullable': True, 'type': 'string'}, {'metadata': {}, 'name': 'contentProviderType', 'nullable': True, 'type': 'string'}, {'metadata': {}, 'name': 'createdDate', 'nullable': True, 'type': 'string'}, {'metadata': {}, 'name': 'datasourceUsages', 'nullable': True, 'type': {'containsNull': True, 'elementType': {'fields': [{'metadata': {}, 'name': 'datasourceInstanceId', 'nullable': True, 'type': 'string'}], 'type': 'struct'}, 'type': 'array'}}, {'metadata': {}, 'name': 'directQueryRefreshSchedule', 'nullable': True, 'type': {'fields': [{'metadata': {}, 'name': 'days', 'nullable': True, 'type': {'containsNull': True, 'elementType': 'string', 'type': 'array'}}, {'metadata': {}, 'name': 'frequency', 'nullable': True, 'type': 'long'}, {'metadata': {}, 'name': 'localTimeZoneId', 'nullable': True, 'type': 'string'}, {'metadata': {}, 'name': 'times', 'nullable': True, 'type': {'containsNull': True, 'elementType': 'string', 'type': 'array'}}], 'type': 'struct'}}, {'metadata': {}, 'name': 'expressions', 'nullable': True, 'type': {'containsNull': True, 'elementType': {'fields': [{'metadata': {}, 'name': 'expression', 'nullable': True, 'type': 'string'}, {'metadata': {}, 'name': 'name', 'nullable': True, 'type': 'string'}], 'type': 'struct'}, 'type': 'array'}}, {'metadata': {}, 'name': 'id', 'nullable': True, 'type': 'string'}, {'metadata': {}, 'name': 'isEffectiveIdentityRequired', 'nullable': True, 'type': 'boolean'}, {'metadata': {}, 'name': 'isEffectiveIdentityRolesRequired', 'nullable': True, 'type': 'boolean'}, {'metadata': {}, 'name': 'name', 'nullable': True, 'type': 'string'}, {'metadata': {}, 'name': 'relations', 'nullable': True, 'type': {'containsNull': True, 'elementType': {'fields': [{'metadata': {}, 'name': 'dependentOnArtifactId', 'nullable': True, 'type': 'string'}, {'metadata': {}, 'name': 'relationType', 'nullable': True, 'type': 'string'}, {'metadata': {}, 'name': 'settingsList', 'nullable': True, 'type': 'string'}, {'metadata': {}, 'name': 'usage', 'nullable': True, 'type': 'string'}, {'metadata': {}, 'name': 'workspaceId', 'nullable': True, 'type': 'string'}], 'type': 'struct'}, 'type': 'array'}}, {'metadata': {}, 'name': 'schemaRetrievalError', 'nullable': True, 'type': 'string'}, {'metadata': {}, 'name': 'tables', 'nullable': True, 'type': {'containsNull': True, 'elementType': {'fields': [{'metadata': {}, 'name': 'columns', 'nullable': True, 'type': {'containsNull': True, 'elementType': {'fields': [{'metadata': {}, 'name': 'columnType', 'nullable': True, 'type': 'string'}, {'metadata': {}, 'name': 'dataType', 'nullable': True, 'type': 'string'}, {'metadata': {}, 'name': 'expression', 'nullable': True, 'type': 'string'}, {'metadata': {}, 'name': 'isHidden', 'nullable': True, 'type': 'boolean'}, {'metadata': {}, 'name': 'name', 'nullable': True, 'type': 'string'}], 'type': 'struct'}, 'type': 'array'}}, {'metadata': {}, 'name': 'isHidden', 'nullable': True, 'type': 'boolean'}, {'metadata': {}, 'name': 'measures', 'nullable': True, 'type': {'containsNull': True, 'elementType': {'fields': [{'metadata': {}, 'name': 'expression', 'nullable': True, 'type': 'string'}, {'metadata': {}, 'name': 'isHidden', 'nullable': True, 'type': 'boolean'}, {'metadata': {}, 'name': 'name', 'nullable': True, 'type': 'string'}], 'type': 'struct'}, 'type': 'array'}}, {'metadata': {}, 'name': 'name', 'nullable': True, 'type': 'string'}, {'metadata': {}, 'name': 'source', 'nullable': True, 'type': {'containsNull': True, 'elementType': {'fields': [{'metadata': {}, 'name': 'expression', 'nullable': True, 'type': 'string'}], 'type': 'struct'}, 'type': 'array'}}, {'metadata': {}, 'name': 'storageMode', 'nullable': True, 'type': 'string'}], 'type': 'struct'}, 'type': 'array'}}, {'metadata': {}, 'name': 'targetStorageMode', 'nullable': True, 'type': 'string'}], 'type': 'struct'}, 'type': 'array'}}, {'metadata': {}, 'name': 'defaultDatasetStorageFormat', 'nullable': True, 'type': 'string'}, {'metadata': {}, 'name': 'description', 'nullable': True, 'type': 'string'}, {'metadata': {}, 'name': 'id', 'nullable': True, 'type': 'string'}, {'metadata': {}, 'name': 'isOnDedicatedCapacity', 'nullable': True, 'type': 'boolean'}, {'metadata': {}, 'name': 'name', 'nullable': True, 'type': 'string'}, {'metadata': {}, 'name': 'reports', 'nullable': True, 'type': {'containsNull': True, 'elementType': {'fields': [{'metadata': {}, 'name': 'createdBy', 'nullable': True, 'type': 'string'}, {'metadata': {}, 'name': 'createdById', 'nullable': True, 'type': 'string'}, {'metadata': {}, 'name': 'createdDateTime', 'nullable': True, 'type': 'string'}, {'metadata': {}, 'name': 'datasetId', 'nullable': True, 'type': 'string'}, {'metadata': {}, 'name': 'id', 'nullable': True, 'type': 'string'}, {'metadata': {}, 'name': 'modifiedBy', 'nullable': True, 'type': 'string'}, {'metadata': {}, 'name': 'modifiedById', 'nullable': True, 'type': 'string'}, {'metadata': {}, 'name': 'modifiedDateTime', 'nullable': True, 'type': 'string'}, {'metadata': {}, 'name': 'name', 'nullable': True, 'type': 'string'}, {'metadata': {}, 'name': 'reportType', 'nullable': True, 'type': 'string'}], 'type': 'struct'}, 'type': 'array'}}, {'metadata': {}, 'name': 'state', 'nullable': True, 'type': 'string'}, {'metadata': {}, 'name': 'type', 'nullable': True, 'type': 'string'}, {'metadata': {}, 'name': 'warehouses', 'nullable': True, 'type': {'containsNull': True, 'elementType': {'fields': [{'metadata': {}, 'name': 'configuredBy', 'nullable': True, 'type': 'string'}, {'metadata': {}, 'name': 'configuredById', 'nullable': True, 'type': 'string'}, {'metadata': {}, 'name': 'id', 'nullable': True, 'type': 'string'}, {'metadata': {}, 'name': 'modifiedBy', 'nullable': True, 'type': 'string'}, {'metadata': {}, 'name': 'modifiedById', 'nullable': True, 'type': 'string'}, {'metadata': {}, 'name': 'modifiedDateTime', 'nullable': True, 'type': 'string'}, {'metadata': {}, 'name': 'name', 'nullable': True, 'type': 'string'}], 'type': 'struct'}, 'type': 'array'}}], 'type': 'struct'}\n",
      "struct\n"
     ]
    }
   ],
   "source": [
    "for key in myDict:\n",
    "    print(myDict[key])\n",
    "    if isinstance(myDict[key], dict):\n",
    "        for k in myDict[key]:\n",
    "            print(k)\n",
    "    if isinstance(myDict[key], list):\n",
    "        for i in range(0, len(myDict[key])):\n",
    "            for j in myDict[key][0]:\n",
    "                print(myDict[key][0][j])\n"
   ]
  },
  {
   "cell_type": "code",
   "execution_count": null,
   "metadata": {},
   "outputs": [],
   "source": [
    "sparkConf = SparkConf()\n",
    "sparkConf.set(\"fs.azure.account.auth.type.onelake.dfs.core.windows.net\", \"OAuth\")\n",
    "sparkConf.set(\"fs.azure.account.oauth.provider.type.onelake.dfs.core.windows.net\", \"org.apache.hadoop.fs.azurebfs.oauth2.ClientCredsTokenProvider\")\n",
    "sparkConf.set(\"fs.azure.account.oauth2.client.id.onelake.dfs.core.windows.net\", appid)\n",
    "sparkConf.set(\"fs.azure.account.oauth2.client.secret.onelake.dfs.core.windows.net\", appsecret)\n",
    "sparkConf.set(\"fs.azure.account.oauth2.client.endpoint.onelake.dfs.core.windows.net\", \"https://login.microsoftonline.com/\" + tenantid)\n",
    "sparkConf.set(\"spark.jars.packages\", \"org.apache.hadoop:hadoop-azure:3.3.1\")\n",
    "spark = SparkSession.builder.config(conf=sparkConf).appName(\"SparkTest\").getOrCreate()\n",
    "\n",
    "\n",
    "schema = StructType([\n",
    "    StructField(\"name\", StringType(), True),\n",
    "    StructField(\"age\", StringType(), True),\n",
    "    StructField(\"timestamp\", TimestampType(), True)\n",
    "])\n",
    "\n",
    "import datetime\n",
    "\n",
    "now = datetime.datetime.now()\n",
    "\n",
    "data = [(\"John\", \"30\", now), (\"Jane\", \"25\", now)]\n",
    "df = spark.createDataFrame(data, schema)\n",
    "df = df.withColumn(\"source\", lit(\"test\"))\n",
    "\n",
    "df.write.format(\"parquet\").mode(\"append\").save(\"abfss://onelake.dfs.core.windows.net/FabricLake.Lakehouse/Files/data.parquet\")\n",
    "# df.write.format(\"parquet\").mode(\"append\").save(\"FabricLake.Lakehouse/Files/data.parquet\")\n",
    "df.show()\n",
    "\n"
   ]
  },
  {
   "cell_type": "code",
   "execution_count": null,
   "metadata": {},
   "outputs": [],
   "source": [
    "# df.write.format(\"delta\").mode(\"append\").saveAsTable(\"data\")\n",
    "df.write.format(\"parquet\").save(\"data.parquet\")"
   ]
  },
  {
   "cell_type": "code",
   "execution_count": null,
   "metadata": {},
   "outputs": [],
   "source": [
    "# Instantiate a DataLakeServiceClient using a connection string\n",
    "   from azure.storage.filedatalake import DataLakeServiceClient\n",
    "   datalake_service_client = DataLakeServiceClient.from_connection_string(self.connection_string)\n",
    "\n",
    "   # Instantiate a FileSystemClient\n",
    "   file_system_client = datalake_service_client.get_file_system_client(\"mynewfilesystem\")"
   ]
  },
  {
   "cell_type": "code",
   "execution_count": null,
   "metadata": {},
   "outputs": [],
   "source": [
    "from time import sleep\n",
    "import datetime\n",
    "\n",
    "\n",
    "counter = int()\n",
    "\n",
    "for i in range(1,84):\n",
    "    counter+=1\n",
    "\n",
    "    if i % 17 == 0:\n",
    "        print(datetime.datetime.now())\n",
    "        sleep(5)\n",
    "        print(f\"FizzBuzz and {counter}\")\n",
    "        # print(datetime.datetime.now())\n"
   ]
  },
  {
   "cell_type": "code",
   "execution_count": null,
   "metadata": {},
   "outputs": [],
   "source": [
    "# t = range(1,15000)\n",
    "\n",
    "def distribute_items(items, num_groups):\n",
    "    # Calculate the size of each group\n",
    "    group_size = len(items) // num_groups\n",
    "    remainder = len(items) % num_groups\n",
    "\n",
    "    # Create the groups\n",
    "    groups = []\n",
    "    start = 0\n",
    "    for i in range(num_groups):\n",
    "        end = start + group_size + (1 if i < remainder else 0)\n",
    "        groups.append(items[start:end])\n",
    "        start = end\n",
    "\n",
    "    return groups\n",
    "\n",
    "# Example usage\n",
    "items = list(range(1, 15001))  # List of 15,000 items\n",
    "num_groups = 16\n",
    "groups = distribute_items(items, num_groups)\n",
    "\n",
    "# Print the size of each group\n",
    "for i, group in enumerate(groups):\n",
    "    print(f\"Group {i+1}: {len(group)} items\")\n"
   ]
  },
  {
   "cell_type": "code",
   "execution_count": null,
   "metadata": {},
   "outputs": [],
   "source": [
    "from azure.identity import DefaultAzureCredential\n",
    "from azure.storage.filedatalake import DataLakeServiceClient, FileSystemClient\n",
    "from azure.identity import ClientSecretCredential\n",
    "import datetime\n",
    "import json\n",
    "\n",
    "storage_account_name = \"onelake\"\n",
    "workspace_name = \"FabricMonitor\"\n",
    "\n",
    "credential = ClientSecretCredential(tenant_id=tenantid,\n",
    "                            client_id=appid,\n",
    "                            client_secret=appsecret)\n",
    "\n",
    "file_system_client = FileSystemClient(\n",
    "    account_url=\"https://onelake.dfs.fabric.microsoft.com\",\n",
    "    file_system_name=workspace_name,\n",
    "    credential=credential)\n",
    "\n",
    "dc = file_system_client.get_directory_client(\"FabricLake.Lakehouse/Files\")\n",
    "file_client = dc.get_file_client(\"data.parquet\")\n",
    "with open(\"./data.parquet\", \"rb\") as data:\n",
    "    file_client.upload_data(data, overwrite=True)\n",
    "\n",
    "    \n",
    "\n",
    "\n",
    "df.write.format(\"delta\").mode(\"append\").save(\"abfss://onelake.dfs.core.windows.net/FabricLake.Lakehouse/Files/data.parquet\")\n"
   ]
  },
  {
   "cell_type": "markdown",
   "metadata": {},
   "source": []
  },
  {
   "cell_type": "code",
   "execution_count": null,
   "metadata": {},
   "outputs": [],
   "source": [
    "import pandas as pd\n",
    "# Load data into pandas DataFrame from \"/lakehouse/default/\" + \"Files/stage/state.json\"\n",
    "state = pd.read_json(\"/lakehouse/default/\" + \"Files/stage/state.yaml\",typ=\"series\")\n",
    "\n",
    "lastRun = state['activity']['lastRun']\n",
    "lastRun\n"
   ]
  },
  {
   "cell_type": "code",
   "execution_count": null,
   "metadata": {},
   "outputs": [],
   "source": [
    "with open(\"/lakehouse/default/\" + \"Files/stage/state.yaml\", \"r\") as file:\n",
    "    for line in file:\n",
    "        print(line)"
   ]
  },
  {
   "cell_type": "code",
   "execution_count": null,
   "metadata": {},
   "outputs": [],
   "source": [
    "s = spark.read.option(\"multiline\", \"true\").json(\"Files/stage/state.json\")\n",
    "df = spark.read.option(\"multiLines\",\"json\").json(\"Files/stage/catalog/scans/2024/07/22/*.json\")"
   ]
  },
  {
   "cell_type": "code",
   "execution_count": null,
   "metadata": {},
   "outputs": [],
   "source": [
    "from pyspark.sql.functions import *\n",
    "from pyspark.sql.window import Window\n",
    "from functools import reduce\n",
    "\n",
    "data = df.withColumn(\"datasets\", explode(df[\"workspaces\"][\"datasets\"]))\n",
    "\n",
    "df = df.withColumn(\"start_Time\", to_utc_timestamp(df['startTime'], \"UTC\"))\n",
    "df = df.withColumn(\"cst_timestamp\", from_utc_timestamp(df.start_Time, \"America/Chicago\"))\n",
    "df = df.withColumn(\"eu_timestamp\", from_utc_timestamp(df.start_Time, \"Europe/Berlin\"))\n",
    "df = df.withColumn(\"ist_timestamp\", from_utc_timestamp(df.start_Time, \"Asia/Kolkata\"))\n"
   ]
  },
  {
   "cell_type": "code",
   "execution_count": null,
   "metadata": {},
   "outputs": [],
   "source": [
    "from pyspark.sql.functions import *\n",
    "from pyspark.sql.window import Window\n",
    "from functools import reduce\n",
    "from  pyspark.sql.functions import input_file_name\n",
    "\n",
    "dc = df.withColumn(\"requestId\", df.requestId)\\\n",
    "    .withColumn(\"refreshAttempts\", explode(df.refreshAttempts))\\\n",
    "    .select(\"requestId\",\"refreshAttempts\")\n",
    "\n",
    "display(dc)"
   ]
  },
  {
   "cell_type": "code",
   "execution_count": null,
   "metadata": {},
   "outputs": [],
   "source": [
    "de = dc.withColumn(\"attemptId\", dc.refreshAttempts.attemptId)\\\n",
    "    .withColumn(\"startTime\", dc.refreshAttempts.startTime)\\\n",
    "    .withColumn(\"endTime\", dc.refreshAttempts.endTime)\\\n",
    "    .withColumn(\"type\", dc.refreshAttempts.type)\\\n",
    "    .select(\"requestId\",\"attemptId\",\"startTime\",\"endTime\",\"type\")\n",
    "\n",
    "display(de)"
   ]
  },
  {
   "cell_type": "code",
   "execution_count": null,
   "metadata": {},
   "outputs": [],
   "source": [
    "df.select('dataset_id', 'dataset_name', 'endTime', 'id', 'refreshType', 'requestId', 'serviceExceptionJson', 'startTime', 'status').dropDuplicates([\"dataset_id\",\"requestId\"]).write.format(\"delta\").mode(\"overwrite\").option(\"overwriteSchema\",\"true\").save(\"Tables/refreshhistory\")\n",
    "de.write.format(\"delta\").mode(\"overwrite\").option(\"overwriteSchema\",\"true\").save(\"Tables/refreshhistory_attempts\")"
   ]
  },
  {
   "cell_type": "code",
   "execution_count": null,
   "metadata": {},
   "outputs": [],
   "source": [
    "%%sql\n",
    "\n",
    "SELECT dataset_id, COUNT(DISTINCT requestId) as requestId_count\n",
    "FROM refreshhistory\n",
    "GROUP BY dataset_id\n",
    "HAVING COUNT(DISTINCT requestId) > 1\n"
   ]
  },
  {
   "cell_type": "markdown",
   "metadata": {},
   "source": [
    "### Get the latest record by date"
   ]
  },
  {
   "cell_type": "code",
   "execution_count": null,
   "metadata": {},
   "outputs": [],
   "source": [
    "ds = \"Tables/workspaces_workspaces\"\n",
    "df = spark.read.format(\"delta\").load(ds)\n",
    "dd = df.withColumn(\"scandate\", concat_ws(\"-\",df.ts_year, df.ts_month, df.ts_day).cast(\"date\"))\n",
    "\n",
    "# Define window specification\n",
    "window_spec = Window.partitionBy(\"id\").orderBy(col(\"scandate\").desc())\n",
    "\n",
    "# Add row number to each partition\n",
    "df_with_row_num = dd.withColumn(\"row_number\", row_number().over(window_spec))\n",
    "\n",
    "# Filter to get the latest records for each id\n",
    "latest_records_df = df_with_row_num.filter(col(\"row_number\") == 1).drop(\"row_number\")\n",
    "\n",
    "# Show the latest records DataFrame\n",
    "latest_records_df.write.format(\"delta\").mode(\"overwrite\").option(\"overwriteSchema\",\"true\").save(ds)"
   ]
  },
  {
   "cell_type": "code",
   "execution_count": null,
   "metadata": {},
   "outputs": [],
   "source": [
    "df = spark.read.option(\"multiline\",\"true\").json(\"Files/stage/catalog/scans/2024/*/*/*.json\")\n",
    "dd = df.withColumn(\"workspaces\", explode(df.workspaces)).drop(\"datasourceInstances\")\n",
    "\n",
    "workspaces = dd.withColumn(\"capacityId\", dd[\"workspaces\"][\"capacityId\"]) \\\n",
    "    .withColumn(\"dataRetrievalState\", dd[\"workspaces\"][\"dataRetrievalState\"]) \\\n",
    "    .withColumn(\"defaultDatasetStorageFormat\", dd[\"workspaces\"][\"defaultDatasetStorageFormat\"]) \\\n",
    "    .withColumn(\"description\", dd[\"workspaces\"][\"description\"]) \\\n",
    "    .withColumn(\"domainId\", dd[\"workspaces\"][\"domainId\"]) \\\n",
    "    .withColumn(\"id\", dd[\"workspaces\"][\"id\"]) \\\n",
    "    .withColumn(\"isOnDedicatedCapacity\", dd[\"workspaces\"][\"isOnDedicatedCapacity\"]) \\\n",
    "    .withColumn(\"name\", dd[\"workspaces\"][\"name\"]) \\\n",
    "    .withColumn(\"state\", dd[\"workspaces\"][\"state\"]) \\\n",
    "    .withColumn(\"type\", dd[\"workspaces\"][\"type\"]) \n",
    "\n",
    "\n",
    "ds = dd.withColumn(\"id\", dd.workspaces.id)\\\n",
    "    .withColumn(\"datasets\", explode(dd.workspaces.datasets)).drop(\"workspaces\")\n",
    "\n",
    "ds = ds.withColumn(\"dataset_id\", ds[\"datasets\"][\"id\"])\n",
    "\n",
    "ds.select(\"id\",\"dataset_id\").dropDuplicates().write.format(\"delta\").mode(\"overwrite\").save(\"Tables/catalog_workspace_datasets\")\n",
    "\n",
    "ee = spark.read.format(\"delta\").load(\"Tables/datasetrefreshable_datasetrefreshable\")\n",
    "display(ee)\n",
    "\n",
    "workspaces = dd.withColumn(\"id\", dd[\"workspaces\"][\"id\"]) \\\n",
    "            .withColumn(\"defaultDatasetStorageFormat\",dd[\"workspaces\"][\"defaultDatasetStorageFormat\"])\\\n",
    "            .withColumn(\"description\",dd[\"workspaces\"][\"description\"])\\\n",
    "            .withColumn(\"domainId\",dd[\"workspaces\"][\"domainId\"])\\\n",
    "            .withColumn(\"isOnDedicatedCapacity\",df[\"workspaces\"][\"isOnDedicatedCapacity\"])\\\n",
    "            .withColumn(\"datasets\",explode(df[\"workspaces\"][\"datasets\"]))\n",
    "\n",
    "dd = df.withColumn(\"workspaces\", explode(df.workspaces)).drop(\"datasourceInstances\")\n",
    "display(dd)\n",
    "\n",
    "display(dd.select(dd[\"workspaces\"][\"id\"]))\n",
    "\n",
    "df = spark.read.format(\"delta\").load(\"Tables/catalog_datasets\")\n",
    "display(df.limit(10))\n",
    "\n",
    "datasets = df.withColumn(\"scandate\", concat_ws(\"-\",df.ts_year, df.ts_month, df.ts_day).cast(\"date\"))\n",
    "display(datasets.limit(10))"
   ]
  },
  {
   "cell_type": "code",
   "execution_count": null,
   "metadata": {},
   "outputs": [],
   "source": [
    "ds = \"Tables/workspaces_workspaces\"\n",
    "df = spark.read.format(\"delta\").load(ds)\n",
    "dd = df.withColumn(\"scandate\", concat_ws(\"-\",df.ts_year, df.ts_month, df.ts_day).cast(\"date\"))\n",
    "\n",
    "# Define window specification\n",
    "window_spec = Window.partitionBy(\"id\").orderBy(col(\"scandate\").desc())\n",
    "\n",
    "# Add row number to each partition\n",
    "df_with_row_num = dd.withColumn(\"row_number\", row_number().over(window_spec))\n",
    "\n",
    "# Filter to get the latest records for each id\n",
    "latest_records_df = df_with_row_num.filter(col(\"row_number\") == 1).drop(\"row_number\")\n",
    "\n",
    "# Show the latest records DataFrame\n",
    "latest_records_df.write.format(\"delta\").mode(\"overwrite\").option(\"overwriteSchema\",\"true\").save(ds)\n",
    "\n",
    "latest_records_df.write.format(\"delta\").save(\"Tables/catalog_datasets_unique\")\n",
    "\n",
    "df = spark.read.format(\"delta\").load(\"Tables/catalog_datasets_tables\")\n",
    "df_tables = df.withColumn(\"scandate\", concat_ws(\"-\",df.ts_year, df.ts_month, df.ts_day).cast(\"date\"))\n",
    "\n",
    "df = spark.read.format(\"delta\").load(\"Tables/catalog_datasets_columns\")\n",
    "df_columns = df.withColumn(\"scandate\", concat_ws(\"-\",df.ts_year, df.ts_month, df.ts_day).cast(\"date\"))\n",
    "\n",
    "df = spark.read.format(\"delta\").load(\"Tables/catalog_datasets_measures\")\n",
    "df_measures = df.withColumn(\"scandate\", concat_ws(\"-\",df.ts_year, df.ts_month, df.ts_day).cast(\"date\"))\n",
    "\n"
   ]
  },
  {
   "cell_type": "code",
   "execution_count": null,
   "metadata": {},
   "outputs": [],
   "source": [
    "measures = df_measures.withColumn(\"UID\", concat_ws(\"-\", col(\"datasets_id\"), col(\"datasets_tables_name\"), col(\"scandate\")))\n",
    "tables = df_tables.withColumn(\"UID\", concat_ws(\"-\", col(\"datasets_id\"), col(\"datasets_tables_name\"), col(\"scandate\")))\n",
    "columns = df_columns.withColumn(\"UID\", concat_ws(\"-\", col(\"datasets_id\"), col(\"datasets_tables_name\"), col(\"scandate\")))\n",
    "\n",
    "measures.write.format(\"delta\").save(\"Tables/catalog_datasets_measures_history\")\n",
    "tables.dropDuplicates(\"UID\").write.format(\"delta\").save(\"Tables/catalog_datasets_tables_history\")\n",
    "columns.write.format(\"delta\").save(\"Tables/catalog_datasets_columns_history\")"
   ]
  },
  {
   "cell_type": "code",
   "execution_count": null,
   "metadata": {},
   "outputs": [],
   "source": [
    "dd = spark.read.format(\"delta\").load(\"Tables/catalog_datasets_columns_history\")\n",
    "display(dd.limit(10))"
   ]
  },
  {
   "cell_type": "code",
   "execution_count": null,
   "metadata": {},
   "outputs": [],
   "source": [
    "# tables = spark.read.format(\"delta\").load(\"Tables/catalog_datasets_tables_history\")\n",
    "cols = [\"datasets_id\",\"datasets_tables_name\",\"scandate\"]\n",
    "display(tables.orderBy(*cols).select(*cols))"
   ]
  },
  {
   "cell_type": "code",
   "execution_count": null,
   "metadata": {},
   "outputs": [],
   "source": [
    "dd.dropDuplicates([\"UID\"]).write.format(\"delta\").mode(\"overwrite\").option(\"overwriteSchema\", \"True\").save(\"Tables/catalog_datasets_tables_history\")"
   ]
  },
  {
   "cell_type": "code",
   "execution_count": null,
   "metadata": {},
   "outputs": [],
   "source": [
    "%%sql\n",
    "\n",
    "select T.UID, datasets_tables_name, datasets_id, scandate, description, name FROM catalog_tables_history as T\n",
    "INNER JOIN (select UID, COUNT(UID) FROM catalog_tables_history group by UID having count(UID)>1) as G\n",
    "ON T.UID=G.UID"
   ]
  },
  {
   "cell_type": "code",
   "execution_count": null,
   "metadata": {},
   "outputs": [],
   "source": [
    "cols = [\"datasets_id\", \"datasets_tables_name\"]\n",
    "\n",
    "window_spec = Window.partitionBy(*cols).orderBy(col(\"scandate\").desc())\n",
    "\n",
    "# Add row number to each partition\n",
    "df_with_row_num = df_tables.withColumn(\"row_number\", row_number().over(window_spec))\n",
    "\n",
    "# Filter to get the latest records for each id\n",
    "latest_records_df = df_with_row_num.filter(col(\"row_number\") == 1).drop(\"row_number\")\n",
    "\n",
    "# Show the latest records DataFrame\n",
    "latest_records_df.select(col(\"datasets_id\"), col(\"datasets_tables_name\"), col(\"scandate\")).show()"
   ]
  }
 ],
 "metadata": {
  "kernelspec": {
   "display_name": "fabric",
   "language": "python",
   "name": "python3"
  },
  "language_info": {
   "codemirror_mode": {
    "name": "ipython",
    "version": 3
   },
   "file_extension": ".py",
   "mimetype": "text/x-python",
   "name": "python",
   "nbconvert_exporter": "python",
   "pygments_lexer": "ipython3",
   "version": "3.10.13"
  }
 },
 "nbformat": 4,
 "nbformat_minor": 2
}
