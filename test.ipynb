{
 "cells": [
  {
   "cell_type": "code",
   "execution_count": 1,
   "metadata": {},
   "outputs": [
    {
     "name": "stdout",
     "output_type": "stream",
     "text": [
      "Task Activity is now running\n",
      "2024-06-25 15:25:38,288 - env.context - WARNING - Activity is now running...\n",
      "2024-06-25 15:25:38,290 - env.context - ERROR - Activity error...\n",
      "2024-06-25 15:25:38,292 - env.context - CRITICAL - Activity critical...\n",
      "Task Catalog Snapshots (Published Apps) is now running\n",
      "Task Apps elapsed time: 2.0\n",
      "Task Activity elapsed time: 10.6\n",
      "\n",
      "Total elapsed time: 10.6\n"
     ]
    }
   ],
   "source": [
    "import os\n",
    "from env.audit import Audits\n",
    "\n",
    "appsecret = os.getenv(\"admin_appsecret\")\n",
    "appid = os.getenv(\"admin_appid\")\n",
    "tenantid = os.getenv(\"admin_tenantid\")\n",
    "\n",
    "audit = Audits()\n",
    "audit.set_ServicePrincipal(\n",
    "    tenant_id=tenantid,\n",
    "    client_id=appid,\n",
    "    client_secret= appsecret\n",
    ")\n",
    "\n",
    "# audit.set_ApplicationModules(\"Apps\")\n",
    "# audit.set_ApplicationModules(\"Activity,Apps,Capacity,Catalog,Domains,FabricItems,Gateway,Graph,Refreshables,RefreshHistory,Roles,Tenant,Workspaces\")\n",
    "audit.set_ApplicationModules(\"Activity,Apps\")\n",
    "# audit.set_ApplicationModules(\"Roles,Tenant,Workspaces\")\n",
    "\n",
    "# a list of the supported logging levels\n",
    "import logging\n",
    "Logging_levels = {\n",
    "            \"DEBUG\": logging.DEBUG,\n",
    "            \"INFO\": logging.INFO,\n",
    "            \"WARNING\": logging.WARNING,\n",
    "            \"ERROR\": logging.ERROR,\n",
    "            \"CRITICAL\": logging.CRITICAL\n",
    "}\n",
    "\n",
    "audit.set_LakehouseName(\"FabricLake\")\n",
    "audit.set_PathInLakehouse(\"stage\")\n",
    "audit.set_WorkspaceName(\"FabricMonitor\")\n",
    "audit.set_logging_config(\"INFO\", \"brandon.log\")\n",
    "\n",
    "audit.set_Activity_cron(\"* * * * * 30\")\n",
    "audit.set_Catalog_cron(\"* * * * * 30\")\n",
    "audit.set_Capacity_cron(\"* * * * * 30\")\n",
    "audit.set_Apps_cron(\"* * * * * 30\")\n",
    "audit.set_Domains_cron(\"* * * * * 30\") # Not yet implemented\n",
    "audit.set_Graph_cron(\"* * * * * 30\")\n",
    "audit.set_Tenant_cron(\"* * * * * 30\")\n",
    "audit.set_RefreshHistory_cron(\"* * * * * 30\")\n",
    "audit.set_Refreshables_cron(\"* * * * * 30\")\n",
    "audit.set_Gateway_cron(\"* * * * * 30\")\n",
    "\n",
    "# print(audit.ServicePrincipal)\n",
    "await audit.run()\n",
    "\n"
   ]
  },
  {
   "cell_type": "code",
   "execution_count": null,
   "metadata": {},
   "outputs": [],
   "source": [
    "d = {\n",
    "    \"name\": \"brandon\",\n",
    "    \"age\": 54\n",
    "}\n",
    "\n",
    "if hasattr(d, \"name\"):\n",
    "    print(\"yes\")\n",
    "else:\n",
    "    print(\"no\")\n",
    "\n"
   ]
  },
  {
   "cell_type": "code",
   "execution_count": null,
   "metadata": {},
   "outputs": [],
   "source": []
  }
 ],
 "metadata": {
  "kernelspec": {
   "display_name": "fabric",
   "language": "python",
   "name": "python3"
  },
  "language_info": {
   "codemirror_mode": {
    "name": "ipython",
    "version": 3
   },
   "file_extension": ".py",
   "mimetype": "text/x-python",
   "name": "python",
   "nbconvert_exporter": "python",
   "pygments_lexer": "ipython3",
   "version": "3.10.13"
  }
 },
 "nbformat": 4,
 "nbformat_minor": 2
}
